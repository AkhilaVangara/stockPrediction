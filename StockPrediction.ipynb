{
  "nbformat": 4,
  "nbformat_minor": 0,
  "metadata": {
    "colab": {
      "name": "Tradingiguess.ipynb",
      "provenance": [],
      "collapsed_sections": []
    },
    "kernelspec": {
      "name": "python3",
      "display_name": "Python 3"
    },
    "accelerator": "GPU"
  },
  "cells": [
    {
      "cell_type": "code",
      "metadata": {
        "id": "n-FylJ0TFU3H"
      },
      "source": [
        "import pandas as pd\n",
        "import numpy as np\n",
        "import matplotlib.pyplot as plt\n",
        "import seaborn as sns\n",
        "import keras\n",
        "from sklearn.preprocessing import MinMaxScaler\n",
        "import tensorflow as tf\n",
        "from keras import layers\n",
        "from tensorflow.keras.models import Sequential, save_model\n",
        "from tensorflow.keras.layers import LSTM, Dropout, Dense,Input,Bidirectional,GlobalMaxPooling1D,GlobalAveragePooling1D\n",
        "from tensorflow.keras.optimizers import Adam\n",
        "from tensorflow.keras.callbacks import EarlyStopping\n",
        "from keras.layers import concatenate\n",
        "from keras import *\n",
        "#from common_variables import *\n",
        "#from time_series import *"
      ],
      "execution_count": null,
      "outputs": []
    },
    {
      "cell_type": "code",
      "metadata": {
        "id": "14C9bGXnKEa4"
      },
      "source": [
        "class Trader():\n",
        "  def __init__(self,file_path,use_cols),seq_len=128):\n",
        "    self.df = pd.read_csv(file_path,delimiter=',',usecols=use_cols)\n",
        "    self.columns = use_cols\n",
        "    self.seq_len = seq_len\n",
        "\n",
        "  def preprocess(self):\n",
        "    if 'Volume' in self.columns:\n",
        "      self.df['Volume'].replace(to_replace=0, method='ffill', inplace=True) \n",
        "    self.df.sort_values('Date', inplace=True)\n",
        "\n",
        "  def print_output(self):\n",
        "    self.preprocess()\n",
        "    print(\"Data:{}\".format(self.df))\n",
        "\n",
        "  def plot_columns(self,x_column,y_column):\n",
        "    dates = ['1962-02-01','1967-10-23','1973-09-24','1979-07-11','1985-04-24','1991-02-07','1996-11-20','2002-09-18','2008-07-14','2014-05-07','2020-03-02']\n",
        "    dates = [np.arange(x_column)]\n",
        "    plt.figure(figsize=(20,8))\n",
        "    plt.plot(df[x_column],df[y_column])\n",
        "    plt.xlabel(x_column)\n",
        "    plt.xticks(dates)\n",
        "    plt.ylabel(y_column)\n",
        "\n",
        "  def split_data(self,data):\n",
        "\n",
        "  def create_model(self,data):\n",
        "\n",
        "  def "
      ],
      "execution_count": null,
      "outputs": []
    },
    {
      "cell_type": "code",
      "metadata": {
        "id": "uFq-qT05xf8y"
      },
      "source": [
        "trader = Trader('IBM.csv',['Date', 'Open', 'High', 'Low', 'Close', 'Volume'])"
      ],
      "execution_count": null,
      "outputs": []
    },
    {
      "cell_type": "code",
      "metadata": {
        "colab": {
          "base_uri": "https://localhost:8080/"
        },
        "id": "3jZAl5BuxpWL",
        "outputId": "b86adb78-55f3-426d-ea5a-609fb208bf6c"
      },
      "source": [
        "trader.print_output()"
      ],
      "execution_count": null,
      "outputs": [
        {
          "output_type": "stream",
          "text": [
            "Data:             Date        Open        High         Low       Close   Volume\n",
            "0      1962-02-01    7.300000    7.413333    7.300000    7.393333   640000\n",
            "1      1962-02-02    7.393333    7.440000    7.360000    7.440000   507200\n",
            "2      1962-02-05    7.440000    7.440000    7.306667    7.346667   312000\n",
            "3      1962-02-06    7.346667    7.360000    7.320000    7.353333   256000\n",
            "4      1962-02-07    7.360000    7.400000    7.360000    7.360000   251200\n",
            "...           ...         ...         ...         ...         ...      ...\n",
            "14818  2020-12-14  125.320000  126.239998  123.470001  123.529999  5050000\n",
            "14819  2020-12-15  124.389999  125.930000  123.440002  125.930000  4359600\n",
            "14820  2020-12-16  125.930000  126.570000  125.290001  125.550003  4530100\n",
            "14821  2020-12-17  126.080002  126.089996  124.910004  125.550003  3788000\n",
            "14822  2020-12-18  125.589996  126.400002  124.970001  125.849998  7550600\n",
            "\n",
            "[14823 rows x 6 columns]\n"
          ],
          "name": "stdout"
        }
      ]
    },
    {
      "cell_type": "code",
      "metadata": {
        "colab": {
          "base_uri": "https://localhost:8080/",
          "height": 204
        },
        "id": "-aOwTh25FYMM",
        "outputId": "635866fe-3e5c-42cf-969f-8f4596e6e20a"
      },
      "source": [
        "df = pd.read_csv('IBM.csv', delimiter=',', usecols=['Date', 'Open', 'High', 'Low', 'Close', 'Volume'])\n",
        "# Replace 0 to avoid dividing by 0 later on\n",
        "df['Volume'].replace(to_replace=0, method='ffill', inplace=True) \n",
        "df.sort_values('Date', inplace=True)\n",
        "df.head()"
      ],
      "execution_count": null,
      "outputs": [
        {
          "output_type": "execute_result",
          "data": {
            "text/html": [
              "<div>\n",
              "<style scoped>\n",
              "    .dataframe tbody tr th:only-of-type {\n",
              "        vertical-align: middle;\n",
              "    }\n",
              "\n",
              "    .dataframe tbody tr th {\n",
              "        vertical-align: top;\n",
              "    }\n",
              "\n",
              "    .dataframe thead th {\n",
              "        text-align: right;\n",
              "    }\n",
              "</style>\n",
              "<table border=\"1\" class=\"dataframe\">\n",
              "  <thead>\n",
              "    <tr style=\"text-align: right;\">\n",
              "      <th></th>\n",
              "      <th>Date</th>\n",
              "      <th>Open</th>\n",
              "      <th>High</th>\n",
              "      <th>Low</th>\n",
              "      <th>Close</th>\n",
              "      <th>Volume</th>\n",
              "    </tr>\n",
              "  </thead>\n",
              "  <tbody>\n",
              "    <tr>\n",
              "      <th>0</th>\n",
              "      <td>1962-02-01</td>\n",
              "      <td>7.300000</td>\n",
              "      <td>7.413333</td>\n",
              "      <td>7.300000</td>\n",
              "      <td>7.393333</td>\n",
              "      <td>640000</td>\n",
              "    </tr>\n",
              "    <tr>\n",
              "      <th>1</th>\n",
              "      <td>1962-02-02</td>\n",
              "      <td>7.393333</td>\n",
              "      <td>7.440000</td>\n",
              "      <td>7.360000</td>\n",
              "      <td>7.440000</td>\n",
              "      <td>507200</td>\n",
              "    </tr>\n",
              "    <tr>\n",
              "      <th>2</th>\n",
              "      <td>1962-02-05</td>\n",
              "      <td>7.440000</td>\n",
              "      <td>7.440000</td>\n",
              "      <td>7.306667</td>\n",
              "      <td>7.346667</td>\n",
              "      <td>312000</td>\n",
              "    </tr>\n",
              "    <tr>\n",
              "      <th>3</th>\n",
              "      <td>1962-02-06</td>\n",
              "      <td>7.346667</td>\n",
              "      <td>7.360000</td>\n",
              "      <td>7.320000</td>\n",
              "      <td>7.353333</td>\n",
              "      <td>256000</td>\n",
              "    </tr>\n",
              "    <tr>\n",
              "      <th>4</th>\n",
              "      <td>1962-02-07</td>\n",
              "      <td>7.360000</td>\n",
              "      <td>7.400000</td>\n",
              "      <td>7.360000</td>\n",
              "      <td>7.360000</td>\n",
              "      <td>251200</td>\n",
              "    </tr>\n",
              "  </tbody>\n",
              "</table>\n",
              "</div>"
            ],
            "text/plain": [
              "         Date      Open      High       Low     Close  Volume\n",
              "0  1962-02-01  7.300000  7.413333  7.300000  7.393333  640000\n",
              "1  1962-02-02  7.393333  7.440000  7.360000  7.440000  507200\n",
              "2  1962-02-05  7.440000  7.440000  7.306667  7.346667  312000\n",
              "3  1962-02-06  7.346667  7.360000  7.320000  7.353333  256000\n",
              "4  1962-02-07  7.360000  7.400000  7.360000  7.360000  251200"
            ]
          },
          "metadata": {
            "tags": []
          },
          "execution_count": 3
        }
      ]
    },
    {
      "cell_type": "code",
      "metadata": {
        "id": "qgiHuCFxFeHb"
      },
      "source": [
        "seq_len=128"
      ],
      "execution_count": null,
      "outputs": []
    },
    {
      "cell_type": "code",
      "metadata": {
        "colab": {
          "base_uri": "https://localhost:8080/",
          "height": 451
        },
        "id": "tn1DcRPGFgI1",
        "outputId": "4b8a8fc1-5e82-445b-a138-9dcfaa5a58a4"
      },
      "source": [
        "dates = ['1962-02-01','1967-10-23','1973-09-24','1979-07-11','1985-04-24','1991-02-07','1996-11-20','2002-09-18','2008-07-14','2014-05-07','2020-03-02']\n",
        "plt.figure(figsize=(20,8))\n",
        "plt.plot(df['Date'],df['Close'])\n",
        "plt.xlabel('Date')\n",
        "plt.xticks(dates)\n",
        "plt.ylabel('Price')"
      ],
      "execution_count": null,
      "outputs": [
        {
          "output_type": "execute_result",
          "data": {
            "text/plain": [
              "Text(0, 0.5, 'Price')"
            ]
          },
          "metadata": {
            "tags": []
          },
          "execution_count": 5
        },
        {
          "output_type": "display_data",
          "data": {
            "image/png": "[encoded data removed]",
            "text/plain": [
              "<Figure size 1440x576 with 1 Axes>"
            ]
          },
          "metadata": {
            "tags": [],
            "needs_background": "light"
          }
        }
      ]
    },
    {
      "cell_type": "code",
      "metadata": {
        "colab": {
          "base_uri": "https://localhost:8080/",
          "height": 466
        },
        "id": "J9bUkw8GFiN0",
        "outputId": "0db489b8-7b9b-499d-a7d6-d53f09f23612"
      },
      "source": [
        "plt.figure(figsize=(20,8))\n",
        "plt.plot(df['Date'],df['Volume'])\n",
        "plt.xlabel('Date')\n",
        "plt.xticks(dates)\n",
        "plt.ylabel('Volume')"
      ],
      "execution_count": null,
      "outputs": [
        {
          "output_type": "execute_result",
          "data": {
            "text/plain": [
              "Text(0, 0.5, 'Volume')"
            ]
          },
          "metadata": {
            "tags": []
          },
          "execution_count": 6
        },
        {
          "output_type": "display_data",
          "data": {
            "image/png": "[encoded data removed]",
            "text/plain": [
              "<Figure size 1440x576 with 1 Axes>"
            ]
          },
          "metadata": {
            "tags": [],
            "needs_background": "light"
          }
        }
      ]
    },
    {
      "cell_type": "code",
      "metadata": {
        "id": "F6So6wP5Fl3Q"
      },
      "source": [
        "df_original = df.copy()"
      ],
      "execution_count": null,
      "outputs": []
    },
    {
      "cell_type": "code",
      "metadata": {
        "id": "FdrXJgp8Fn0X"
      },
      "source": [
        "#convert to percentage change\n",
        "df['Open'] = df['Open'].pct_change()\n",
        "df['High'] = df['High'].pct_change()\n",
        "df['Low'] = df['Low'].pct_change()\n",
        "df['Close'] = df['Close'].pct_change()\n",
        "\n",
        "df['Volume'] = df['Volume'].pct_change()"
      ],
      "execution_count": null,
      "outputs": []
    },
    {
      "cell_type": "code",
      "metadata": {
        "id": "in1J3JM1Fpvq"
      },
      "source": [
        "df.dropna(inplace=True)"
      ],
      "execution_count": null,
      "outputs": []
    },
    {
      "cell_type": "code",
      "metadata": {
        "id": "ftOOsIaXKS6E",
        "colab": {
          "base_uri": "https://localhost:8080/",
          "height": 204
        },
        "outputId": "93754dc3-b226-45fd-ac0f-cd362ce2743a"
      },
      "source": [
        "df.head()"
      ],
      "execution_count": null,
      "outputs": [
        {
          "output_type": "execute_result",
          "data": {
            "text/html": [
              "<div>\n",
              "<style scoped>\n",
              "    .dataframe tbody tr th:only-of-type {\n",
              "        vertical-align: middle;\n",
              "    }\n",
              "\n",
              "    .dataframe tbody tr th {\n",
              "        vertical-align: top;\n",
              "    }\n",
              "\n",
              "    .dataframe thead th {\n",
              "        text-align: right;\n",
              "    }\n",
              "</style>\n",
              "<table border=\"1\" class=\"dataframe\">\n",
              "  <thead>\n",
              "    <tr style=\"text-align: right;\">\n",
              "      <th></th>\n",
              "      <th>Date</th>\n",
              "      <th>Open</th>\n",
              "      <th>High</th>\n",
              "      <th>Low</th>\n",
              "      <th>Close</th>\n",
              "      <th>Volume</th>\n",
              "    </tr>\n",
              "  </thead>\n",
              "  <tbody>\n",
              "    <tr>\n",
              "      <th>1</th>\n",
              "      <td>1962-02-02</td>\n",
              "      <td>0.012785</td>\n",
              "      <td>0.003597</td>\n",
              "      <td>0.008219</td>\n",
              "      <td>0.006312</td>\n",
              "      <td>-0.207500</td>\n",
              "    </tr>\n",
              "    <tr>\n",
              "      <th>2</th>\n",
              "      <td>1962-02-05</td>\n",
              "      <td>0.006312</td>\n",
              "      <td>0.000000</td>\n",
              "      <td>-0.007246</td>\n",
              "      <td>-0.012545</td>\n",
              "      <td>-0.384858</td>\n",
              "    </tr>\n",
              "    <tr>\n",
              "      <th>3</th>\n",
              "      <td>1962-02-06</td>\n",
              "      <td>-0.012545</td>\n",
              "      <td>-0.010753</td>\n",
              "      <td>0.001825</td>\n",
              "      <td>0.000907</td>\n",
              "      <td>-0.179487</td>\n",
              "    </tr>\n",
              "    <tr>\n",
              "      <th>4</th>\n",
              "      <td>1962-02-07</td>\n",
              "      <td>0.001815</td>\n",
              "      <td>0.005435</td>\n",
              "      <td>0.005464</td>\n",
              "      <td>0.000907</td>\n",
              "      <td>-0.018750</td>\n",
              "    </tr>\n",
              "    <tr>\n",
              "      <th>5</th>\n",
              "      <td>1962-02-08</td>\n",
              "      <td>0.000000</td>\n",
              "      <td>0.000000</td>\n",
              "      <td>0.000000</td>\n",
              "      <td>0.000906</td>\n",
              "      <td>-0.936306</td>\n",
              "    </tr>\n",
              "  </tbody>\n",
              "</table>\n",
              "</div>"
            ],
            "text/plain": [
              "         Date      Open      High       Low     Close    Volume\n",
              "1  1962-02-02  0.012785  0.003597  0.008219  0.006312 -0.207500\n",
              "2  1962-02-05  0.006312  0.000000 -0.007246 -0.012545 -0.384858\n",
              "3  1962-02-06 -0.012545 -0.010753  0.001825  0.000907 -0.179487\n",
              "4  1962-02-07  0.001815  0.005435  0.005464  0.000907 -0.018750\n",
              "5  1962-02-08  0.000000  0.000000  0.000000  0.000906 -0.936306"
            ]
          },
          "metadata": {
            "tags": []
          },
          "execution_count": 10
        }
      ]
    },
    {
      "cell_type": "code",
      "metadata": {
        "id": "1o80KDKGCC3E"
      },
      "source": [
        "#Perform min-max normalisation\n",
        "price_min = min(df[['Open','High','Low','Close']].min(axis=0))\n",
        "price_max = max(df[['Open','High','Low','Close']].max(axis=1))\n",
        "\n",
        "df['Open'] = (df['Open'] - price_min)/(price_max-price_min)\n",
        "df['High'] = (df['High'] - price_min)/(price_max-price_min)\n",
        "df['Low'] = (df['Low'] - price_min)/(price_max-price_min)\n",
        "df['Close'] = (df['Close'] - price_min)/(price_max-price_min)\n",
        "\n",
        "Volume_min = df['Volume'].min(axis=0)\n",
        "Volume_max = df['Volume'].max(axis=0)\n",
        "\n",
        "df['Volume'] = (df['Volume'] - Volume_min)/(Volume_max-Volume_min)"
      ],
      "execution_count": null,
      "outputs": []
    },
    {
      "cell_type": "code",
      "metadata": {
        "colab": {
          "base_uri": "https://localhost:8080/",
          "height": 204
        },
        "id": "SumBrTcICBBi",
        "outputId": "0b0379ab-3bf1-4cb6-9dac-66065baa4013"
      },
      "source": [
        "df.head()"
      ],
      "execution_count": null,
      "outputs": [
        {
          "output_type": "execute_result",
          "data": {
            "text/html": [
              "<div>\n",
              "<style scoped>\n",
              "    .dataframe tbody tr th:only-of-type {\n",
              "        vertical-align: middle;\n",
              "    }\n",
              "\n",
              "    .dataframe tbody tr th {\n",
              "        vertical-align: top;\n",
              "    }\n",
              "\n",
              "    .dataframe thead th {\n",
              "        text-align: right;\n",
              "    }\n",
              "</style>\n",
              "<table border=\"1\" class=\"dataframe\">\n",
              "  <thead>\n",
              "    <tr style=\"text-align: right;\">\n",
              "      <th></th>\n",
              "      <th>Date</th>\n",
              "      <th>Open</th>\n",
              "      <th>High</th>\n",
              "      <th>Low</th>\n",
              "      <th>Close</th>\n",
              "      <th>Volume</th>\n",
              "    </tr>\n",
              "  </thead>\n",
              "  <tbody>\n",
              "    <tr>\n",
              "      <th>1</th>\n",
              "      <td>1962-02-02</td>\n",
              "      <td>0.623461</td>\n",
              "      <td>0.601015</td>\n",
              "      <td>0.612306</td>\n",
              "      <td>0.607647</td>\n",
              "      <td>0.028019</td>\n",
              "    </tr>\n",
              "    <tr>\n",
              "      <th>2</th>\n",
              "      <td>1962-02-05</td>\n",
              "      <td>0.607647</td>\n",
              "      <td>0.592227</td>\n",
              "      <td>0.574525</td>\n",
              "      <td>0.561581</td>\n",
              "      <td>0.021441</td>\n",
              "    </tr>\n",
              "    <tr>\n",
              "      <th>3</th>\n",
              "      <td>1962-02-06</td>\n",
              "      <td>0.561581</td>\n",
              "      <td>0.565959</td>\n",
              "      <td>0.596685</td>\n",
              "      <td>0.594444</td>\n",
              "      <td>0.029057</td>\n",
              "    </tr>\n",
              "    <tr>\n",
              "      <th>4</th>\n",
              "      <td>1962-02-07</td>\n",
              "      <td>0.596661</td>\n",
              "      <td>0.605504</td>\n",
              "      <td>0.605577</td>\n",
              "      <td>0.594442</td>\n",
              "      <td>0.035019</td>\n",
              "    </tr>\n",
              "    <tr>\n",
              "      <th>5</th>\n",
              "      <td>1962-02-08</td>\n",
              "      <td>0.592227</td>\n",
              "      <td>0.592227</td>\n",
              "      <td>0.592227</td>\n",
              "      <td>0.594440</td>\n",
              "      <td>0.000989</td>\n",
              "    </tr>\n",
              "  </tbody>\n",
              "</table>\n",
              "</div>"
            ],
            "text/plain": [
              "         Date      Open      High       Low     Close    Volume\n",
              "1  1962-02-02  0.623461  0.601015  0.612306  0.607647  0.028019\n",
              "2  1962-02-05  0.607647  0.592227  0.574525  0.561581  0.021441\n",
              "3  1962-02-06  0.561581  0.565959  0.596685  0.594444  0.029057\n",
              "4  1962-02-07  0.596661  0.605504  0.605577  0.594442  0.035019\n",
              "5  1962-02-08  0.592227  0.592227  0.592227  0.594440  0.000989"
            ]
          },
          "metadata": {
            "tags": []
          },
          "execution_count": 12
        }
      ]
    },
    {
      "cell_type": "code",
      "metadata": {
        "id": "SC6a7GGeEH6O"
      },
      "source": [
        "## Create training data, validation data and test data\n",
        "def data_split(df,val_split,test_split):\n",
        "  test_index = len(df)-int(test_split*len(df))\n",
        "  val_index = test_index - int(val_split*len(df))\n",
        "  df_train = df[:val_index]\n",
        "  df_val = df[val_index:test_index]\n",
        "  df_test = df[test_index:]\n",
        "\n",
        "  return df_train,df_val,df_test\n",
        "\n",
        "\n",
        "#Create LSTM Batches\n",
        "def create_batch(data,seq_len):\n",
        "  X,y = [],[]\n",
        "  for i in range(seq_len,len(data)):\n",
        "    X.append(data[i-seq_len:i])\n",
        "    y.append(data[:,3][i])\n",
        "\n",
        "  return np.array(X),np.array(y)\n",
        "\n",
        "  "
      ],
      "execution_count": null,
      "outputs": []
    },
    {
      "cell_type": "code",
      "metadata": {
        "id": "Ug_YWUYCS-ho"
      },
      "source": [
        "df.drop(columns=['Date'],inplace=True)"
      ],
      "execution_count": null,
      "outputs": []
    },
    {
      "cell_type": "code",
      "metadata": {
        "colab": {
          "base_uri": "https://localhost:8080/",
          "height": 204
        },
        "id": "lzrTydmbTQ1C",
        "outputId": "968b1116-d9fe-4a5e-c215-fa041a881b6c"
      },
      "source": [
        "df.head()"
      ],
      "execution_count": null,
      "outputs": [
        {
          "output_type": "execute_result",
          "data": {
            "text/html": [
              "<div>\n",
              "<style scoped>\n",
              "    .dataframe tbody tr th:only-of-type {\n",
              "        vertical-align: middle;\n",
              "    }\n",
              "\n",
              "    .dataframe tbody tr th {\n",
              "        vertical-align: top;\n",
              "    }\n",
              "\n",
              "    .dataframe thead th {\n",
              "        text-align: right;\n",
              "    }\n",
              "</style>\n",
              "<table border=\"1\" class=\"dataframe\">\n",
              "  <thead>\n",
              "    <tr style=\"text-align: right;\">\n",
              "      <th></th>\n",
              "      <th>Open</th>\n",
              "      <th>High</th>\n",
              "      <th>Low</th>\n",
              "      <th>Close</th>\n",
              "      <th>Volume</th>\n",
              "    </tr>\n",
              "  </thead>\n",
              "  <tbody>\n",
              "    <tr>\n",
              "      <th>1</th>\n",
              "      <td>0.623461</td>\n",
              "      <td>0.601015</td>\n",
              "      <td>0.612306</td>\n",
              "      <td>0.607647</td>\n",
              "      <td>0.028019</td>\n",
              "    </tr>\n",
              "    <tr>\n",
              "      <th>2</th>\n",
              "      <td>0.607647</td>\n",
              "      <td>0.592227</td>\n",
              "      <td>0.574525</td>\n",
              "      <td>0.561581</td>\n",
              "      <td>0.021441</td>\n",
              "    </tr>\n",
              "    <tr>\n",
              "      <th>3</th>\n",
              "      <td>0.561581</td>\n",
              "      <td>0.565959</td>\n",
              "      <td>0.596685</td>\n",
              "      <td>0.594444</td>\n",
              "      <td>0.029057</td>\n",
              "    </tr>\n",
              "    <tr>\n",
              "      <th>4</th>\n",
              "      <td>0.596661</td>\n",
              "      <td>0.605504</td>\n",
              "      <td>0.605577</td>\n",
              "      <td>0.594442</td>\n",
              "      <td>0.035019</td>\n",
              "    </tr>\n",
              "    <tr>\n",
              "      <th>5</th>\n",
              "      <td>0.592227</td>\n",
              "      <td>0.592227</td>\n",
              "      <td>0.592227</td>\n",
              "      <td>0.594440</td>\n",
              "      <td>0.000989</td>\n",
              "    </tr>\n",
              "  </tbody>\n",
              "</table>\n",
              "</div>"
            ],
            "text/plain": [
              "       Open      High       Low     Close    Volume\n",
              "1  0.623461  0.601015  0.612306  0.607647  0.028019\n",
              "2  0.607647  0.592227  0.574525  0.561581  0.021441\n",
              "3  0.561581  0.565959  0.596685  0.594444  0.029057\n",
              "4  0.596661  0.605504  0.605577  0.594442  0.035019\n",
              "5  0.592227  0.592227  0.592227  0.594440  0.000989"
            ]
          },
          "metadata": {
            "tags": []
          },
          "execution_count": 15
        }
      ]
    },
    {
      "cell_type": "code",
      "metadata": {
        "id": "OFzX4u_nEG0N"
      },
      "source": [
        "df_train,df_val,df_test = data_split(df,0.1,0.1)"
      ],
      "execution_count": null,
      "outputs": []
    },
    {
      "cell_type": "code",
      "metadata": {
        "id": "22aJnGk3SVqB"
      },
      "source": [
        "X_train, y_train = create_batch(df_train.values,seq_len)\n",
        "X_val,y_val = create_batch(df_val.values,seq_len)\n",
        "X_test,y_test = create_batch(df_test.values,seq_len)"
      ],
      "execution_count": null,
      "outputs": []
    },
    {
      "cell_type": "code",
      "metadata": {
        "colab": {
          "base_uri": "https://localhost:8080/"
        },
        "id": "Q6xln4C6oPiD",
        "outputId": "d073c6da-3709-4897-8c8a-27e0ac06d5bf"
      },
      "source": [
        "print(X_train.shape, y_train.shape)\n",
        "print(X_val.shape, y_val.shape)"
      ],
      "execution_count": null,
      "outputs": [
        {
          "output_type": "stream",
          "text": [
            "(11730, 128, 5) (11730,)\n",
            "(1354, 128, 5) (1354,)\n"
          ],
          "name": "stdout"
        }
      ]
    },
    {
      "cell_type": "code",
      "metadata": {
        "colab": {
          "base_uri": "https://localhost:8080/"
        },
        "id": "Y5-58UM4oVUw",
        "outputId": "f1bd1d56-4414-48f6-9369-ed15f5e4d356"
      },
      "source": [
        "print(X_test.shape, y_test.shape)"
      ],
      "execution_count": null,
      "outputs": [
        {
          "output_type": "stream",
          "text": [
            "(1354, 128, 5) (1354,)\n"
          ],
          "name": "stdout"
        }
      ]
    },
    {
      "cell_type": "code",
      "metadata": {
        "colab": {
          "base_uri": "https://localhost:8080/"
        },
        "id": "vd1mo3RQYwht",
        "outputId": "58d9c17f-f4da-4771-e2ef-8bfe95a6947d"
      },
      "source": [
        "X_train.shape[2]"
      ],
      "execution_count": null,
      "outputs": [
        {
          "output_type": "execute_result",
          "data": {
            "text/plain": [
              "5"
            ]
          },
          "metadata": {
            "tags": []
          },
          "execution_count": 34
        }
      ]
    },
    {
      "cell_type": "code",
      "metadata": {
        "id": "ziprjXuxfVCY"
      },
      "source": [
        "def create_model(seq_len,num_features):\n",
        "  model = Sequential()\n",
        "  model.add(LSTM(128,return_sequences=True, input_shape=(seq_len, num_features)))\n",
        "  model.add(LSTM(64))\n",
        "  model.add(Dropout(0.2))\n",
        "  model.add(Dense(1))\n",
        "  model.compile(loss=\"mse\", optimizer=\"adam\", metrics=['mae', 'mape'])\n",
        "\n",
        "  return model"
      ],
      "execution_count": null,
      "outputs": []
    },
    {
      "cell_type": "code",
      "metadata": {
        "id": "4fffBdra_kgu"
      },
      "source": [
        "model = create_model(seq_len,5)"
      ],
      "execution_count": null,
      "outputs": []
    },
    {
      "cell_type": "code",
      "metadata": {
        "colab": {
          "base_uri": "https://localhost:8080/"
        },
        "id": "744R0FEJd3Cj",
        "outputId": "65dac01c-31ff-4fdc-a1df-a812f426bdbd"
      },
      "source": [
        "model.summary()"
      ],
      "execution_count": null,
      "outputs": [
        {
          "output_type": "stream",
          "text": [
            "Model: \"sequential_6\"\n",
            "_________________________________________________________________\n",
            "Layer (type)                 Output Shape              Param #   \n",
            "=================================================================\n",
            "lstm_13 (LSTM)               (None, 128, 128)          68608     \n",
            "_________________________________________________________________\n",
            "lstm_14 (LSTM)               (None, 64)                49408     \n",
            "_________________________________________________________________\n",
            "dropout_4 (Dropout)          (None, 64)                0         \n",
            "_________________________________________________________________\n",
            "dense_6 (Dense)              (None, 1)                 65        \n",
            "=================================================================\n",
            "Total params: 118,081\n",
            "Trainable params: 118,081\n",
            "Non-trainable params: 0\n",
            "_________________________________________________________________\n"
          ],
          "name": "stdout"
        }
      ]
    },
    {
      "cell_type": "code",
      "metadata": {
        "colab": {
          "base_uri": "https://localhost:8080/"
        },
        "id": "FkcbyujkiKuT",
        "outputId": "48236d8a-ee7f-488e-e9ac-44d00031592b"
      },
      "source": [
        "callback = tf.keras.callbacks.ModelCheckpoint('LSTM.hdf5', monitor='val_loss', save_best_only=True, verbose=1)\n",
        "\n",
        "model.fit(X_train, y_train,\n",
        "              batch_size=2048,\n",
        "              verbose=2,\n",
        "              callbacks=[callback],\n",
        "              epochs=200,\n",
        "              #shuffle=True,\n",
        "              validation_data=(X_val, y_val),)  \n",
        "\n",
        "#  history = model.fit(X_train, Y_train, epochs=20, batch_size=70, validation_data=(X_test, Y_test), \n",
        "#                    callbacks=[EarlyStopping(monitor='val_loss', patience=10)], verbose=1, shuffle=False)"
      ],
      "execution_count": null,
      "outputs": [
        {
          "output_type": "stream",
          "text": [
            "Epoch 1/200\n",
            "6/6 - 3s - loss: 0.1642 - mae: 0.3361 - mape: 56.8218 - val_loss: 0.0381 - val_mae: 0.1928 - val_mape: 32.8556\n",
            "\n",
            "Epoch 00001: val_loss improved from inf to 0.03807, saving model to LSTM.hdf5\n",
            "Epoch 2/200\n",
            "6/6 - 1s - loss: 0.0194 - mae: 0.1151 - mape: 19.7164 - val_loss: 0.0236 - val_mae: 0.1508 - val_mape: 25.2563\n",
            "\n",
            "Epoch 00002: val_loss improved from 0.03807 to 0.02356, saving model to LSTM.hdf5\n",
            "Epoch 3/200\n",
            "6/6 - 1s - loss: 0.0173 - mae: 0.1133 - mape: 19.0506 - val_loss: 8.9244e-04 - val_mae: 0.0214 - val_mape: 3.6302\n",
            "\n",
            "Epoch 00003: val_loss improved from 0.02356 to 0.00089, saving model to LSTM.hdf5\n",
            "Epoch 4/200\n",
            "6/6 - 1s - loss: 0.0082 - mae: 0.0733 - mape: 12.8834 - val_loss: 0.0045 - val_mae: 0.0614 - val_mape: 10.5989\n",
            "\n",
            "Epoch 00004: val_loss did not improve from 0.00089\n",
            "Epoch 5/200\n",
            "6/6 - 1s - loss: 0.0061 - mae: 0.0621 - mape: 10.8701 - val_loss: 0.0023 - val_mae: 0.0410 - val_mape: 6.7918\n",
            "\n",
            "Epoch 00005: val_loss did not improve from 0.00089\n",
            "Epoch 6/200\n",
            "6/6 - 1s - loss: 0.0063 - mae: 0.0620 - mape: 10.5666 - val_loss: 0.0018 - val_mae: 0.0347 - val_mape: 5.7630\n",
            "\n",
            "Epoch 00006: val_loss did not improve from 0.00089\n",
            "Epoch 7/200\n",
            "6/6 - 1s - loss: 0.0047 - mae: 0.0536 - mape: 9.3131 - val_loss: 0.0013 - val_mae: 0.0288 - val_mape: 5.0052\n",
            "\n",
            "Epoch 00007: val_loss did not improve from 0.00089\n",
            "Epoch 8/200\n",
            "6/6 - 1s - loss: 0.0048 - mae: 0.0550 - mape: 9.6708 - val_loss: 8.7604e-04 - val_mae: 0.0212 - val_mape: 3.6044\n",
            "\n",
            "Epoch 00008: val_loss improved from 0.00089 to 0.00088, saving model to LSTM.hdf5\n",
            "Epoch 9/200\n",
            "6/6 - 1s - loss: 0.0042 - mae: 0.0508 - mape: 8.8076 - val_loss: 0.0013 - val_mae: 0.0271 - val_mape: 4.5080\n",
            "\n",
            "Epoch 00009: val_loss did not improve from 0.00088\n",
            "Epoch 10/200\n",
            "6/6 - 1s - loss: 0.0041 - mae: 0.0500 - mape: 8.6965 - val_loss: 8.8578e-04 - val_mae: 0.0215 - val_mape: 3.6917\n",
            "\n",
            "Epoch 00010: val_loss did not improve from 0.00088\n",
            "Epoch 11/200\n",
            "6/6 - 1s - loss: 0.0040 - mae: 0.0493 - mape: 8.6946 - val_loss: 8.7272e-04 - val_mae: 0.0212 - val_mape: 3.6173\n",
            "\n",
            "Epoch 00011: val_loss improved from 0.00088 to 0.00087, saving model to LSTM.hdf5\n",
            "Epoch 12/200\n",
            "6/6 - 1s - loss: 0.0038 - mae: 0.0480 - mape: 8.3502 - val_loss: 9.6552e-04 - val_mae: 0.0225 - val_mape: 3.7892\n",
            "\n",
            "Epoch 00012: val_loss did not improve from 0.00087\n",
            "Epoch 13/200\n",
            "6/6 - 1s - loss: 0.0039 - mae: 0.0483 - mape: 8.4303 - val_loss: 8.7352e-04 - val_mae: 0.0212 - val_mape: 3.6150\n",
            "\n",
            "Epoch 00013: val_loss did not improve from 0.00087\n",
            "Epoch 14/200\n",
            "6/6 - 1s - loss: 0.0038 - mae: 0.0480 - mape: 8.3973 - val_loss: 8.8186e-04 - val_mae: 0.0213 - val_mape: 3.6122\n",
            "\n",
            "Epoch 00014: val_loss did not improve from 0.00087\n",
            "Epoch 15/200\n",
            "6/6 - 1s - loss: 0.0037 - mae: 0.0471 - mape: 8.2076 - val_loss: 9.0641e-04 - val_mae: 0.0216 - val_mape: 3.6560\n",
            "\n",
            "Epoch 00015: val_loss did not improve from 0.00087\n",
            "Epoch 16/200\n",
            "6/6 - 1s - loss: 0.0037 - mae: 0.0469 - mape: 8.1449 - val_loss: 8.7759e-04 - val_mae: 0.0212 - val_mape: 3.6104\n",
            "\n",
            "Epoch 00016: val_loss did not improve from 0.00087\n",
            "Epoch 17/200\n",
            "6/6 - 1s - loss: 0.0035 - mae: 0.0461 - mape: 8.0522 - val_loss: 8.8770e-04 - val_mae: 0.0213 - val_mape: 3.6208\n",
            "\n",
            "Epoch 00017: val_loss did not improve from 0.00087\n",
            "Epoch 18/200\n",
            "6/6 - 1s - loss: 0.0036 - mae: 0.0463 - mape: 8.1286 - val_loss: 8.7711e-04 - val_mae: 0.0212 - val_mape: 3.6114\n",
            "\n",
            "Epoch 00018: val_loss did not improve from 0.00087\n",
            "Epoch 19/200\n",
            "6/6 - 1s - loss: 0.0036 - mae: 0.0462 - mape: 8.0955 - val_loss: 8.8601e-04 - val_mae: 0.0213 - val_mape: 3.6186\n",
            "\n",
            "Epoch 00019: val_loss did not improve from 0.00087\n",
            "Epoch 20/200\n",
            "6/6 - 1s - loss: 0.0035 - mae: 0.0460 - mape: 8.0423 - val_loss: 8.8121e-04 - val_mae: 0.0213 - val_mape: 3.6133\n",
            "\n",
            "Epoch 00020: val_loss did not improve from 0.00087\n",
            "Epoch 21/200\n",
            "6/6 - 1s - loss: 0.0035 - mae: 0.0456 - mape: 7.9945 - val_loss: 8.7731e-04 - val_mae: 0.0212 - val_mape: 3.6125\n",
            "\n",
            "Epoch 00021: val_loss did not improve from 0.00087\n",
            "Epoch 22/200\n",
            "6/6 - 1s - loss: 0.0035 - mae: 0.0457 - mape: 8.0220 - val_loss: 8.8664e-04 - val_mae: 0.0213 - val_mape: 3.6197\n",
            "\n",
            "Epoch 00022: val_loss did not improve from 0.00087\n",
            "Epoch 23/200\n",
            "6/6 - 1s - loss: 0.0034 - mae: 0.0450 - mape: 7.8962 - val_loss: 8.8335e-04 - val_mae: 0.0213 - val_mape: 3.6156\n",
            "\n",
            "Epoch 00023: val_loss did not improve from 0.00087\n",
            "Epoch 24/200\n",
            "6/6 - 1s - loss: 0.0034 - mae: 0.0451 - mape: 7.8426 - val_loss: 8.8393e-04 - val_mae: 0.0213 - val_mape: 3.6162\n",
            "\n",
            "Epoch 00024: val_loss did not improve from 0.00087\n",
            "Epoch 25/200\n",
            "6/6 - 1s - loss: 0.0034 - mae: 0.0447 - mape: 7.8510 - val_loss: 8.8656e-04 - val_mae: 0.0213 - val_mape: 3.6197\n",
            "\n",
            "Epoch 00025: val_loss did not improve from 0.00087\n",
            "Epoch 26/200\n",
            "6/6 - 1s - loss: 0.0034 - mae: 0.0449 - mape: 7.8607 - val_loss: 8.7879e-04 - val_mae: 0.0212 - val_mape: 3.6129\n",
            "\n",
            "Epoch 00026: val_loss did not improve from 0.00087\n",
            "Epoch 27/200\n",
            "6/6 - 1s - loss: 0.0034 - mae: 0.0445 - mape: 7.7739 - val_loss: 8.9174e-04 - val_mae: 0.0214 - val_mape: 3.6275\n",
            "\n",
            "Epoch 00027: val_loss did not improve from 0.00087\n",
            "Epoch 28/200\n",
            "6/6 - 1s - loss: 0.0033 - mae: 0.0444 - mape: 7.7632 - val_loss: 8.7701e-04 - val_mae: 0.0212 - val_mape: 3.6148\n",
            "\n",
            "Epoch 00028: val_loss did not improve from 0.00087\n",
            "Epoch 29/200\n",
            "6/6 - 1s - loss: 0.0033 - mae: 0.0446 - mape: 7.8396 - val_loss: 8.9738e-04 - val_mae: 0.0215 - val_mape: 3.6380\n",
            "\n",
            "Epoch 00029: val_loss did not improve from 0.00087\n",
            "Epoch 30/200\n",
            "6/6 - 1s - loss: 0.0033 - mae: 0.0441 - mape: 7.7189 - val_loss: 8.7717e-04 - val_mae: 0.0213 - val_mape: 3.6394\n",
            "\n",
            "Epoch 00030: val_loss did not improve from 0.00087\n",
            "Epoch 31/200\n",
            "6/6 - 1s - loss: 0.0032 - mae: 0.0438 - mape: 7.6810 - val_loss: 9.0561e-04 - val_mae: 0.0216 - val_mape: 3.6544\n",
            "\n",
            "Epoch 00031: val_loss did not improve from 0.00087\n",
            "Epoch 32/200\n",
            "6/6 - 1s - loss: 0.0033 - mae: 0.0440 - mape: 7.7207 - val_loss: 8.7616e-04 - val_mae: 0.0212 - val_mape: 3.6168\n",
            "\n",
            "Epoch 00032: val_loss did not improve from 0.00087\n",
            "Epoch 33/200\n",
            "6/6 - 1s - loss: 0.0032 - mae: 0.0435 - mape: 7.6277 - val_loss: 8.8398e-04 - val_mae: 0.0213 - val_mape: 3.6165\n",
            "\n",
            "Epoch 00033: val_loss did not improve from 0.00087\n",
            "Epoch 34/200\n",
            "6/6 - 1s - loss: 0.0033 - mae: 0.0440 - mape: 7.7111 - val_loss: 8.9816e-04 - val_mae: 0.0215 - val_mape: 3.6395\n",
            "\n",
            "Epoch 00034: val_loss did not improve from 0.00087\n",
            "Epoch 35/200\n",
            "6/6 - 1s - loss: 0.0033 - mae: 0.0437 - mape: 7.6628 - val_loss: 8.7561e-04 - val_mae: 0.0212 - val_mape: 3.6193\n",
            "\n",
            "Epoch 00035: val_loss did not improve from 0.00087\n",
            "Epoch 36/200\n",
            "6/6 - 1s - loss: 0.0032 - mae: 0.0433 - mape: 7.5947 - val_loss: 8.9385e-04 - val_mae: 0.0214 - val_mape: 3.6313\n",
            "\n",
            "Epoch 00036: val_loss did not improve from 0.00087\n",
            "Epoch 37/200\n",
            "6/6 - 1s - loss: 0.0032 - mae: 0.0434 - mape: 7.6243 - val_loss: 8.7750e-04 - val_mae: 0.0212 - val_mape: 3.6125\n",
            "\n",
            "Epoch 00037: val_loss did not improve from 0.00087\n",
            "Epoch 38/200\n",
            "6/6 - 1s - loss: 0.0032 - mae: 0.0431 - mape: 7.5796 - val_loss: 8.9516e-04 - val_mae: 0.0214 - val_mape: 3.6337\n",
            "\n",
            "Epoch 00038: val_loss did not improve from 0.00087\n",
            "Epoch 39/200\n",
            "6/6 - 1s - loss: 0.0032 - mae: 0.0432 - mape: 7.5875 - val_loss: 8.8081e-04 - val_mae: 0.0212 - val_mape: 3.6132\n",
            "\n",
            "Epoch 00039: val_loss did not improve from 0.00087\n",
            "Epoch 40/200\n",
            "6/6 - 1s - loss: 0.0031 - mae: 0.0426 - mape: 7.4548 - val_loss: 8.7531e-04 - val_mae: 0.0212 - val_mape: 3.6220\n",
            "\n",
            "Epoch 00040: val_loss did not improve from 0.00087\n",
            "Epoch 41/200\n",
            "6/6 - 1s - loss: 0.0031 - mae: 0.0430 - mape: 7.5664 - val_loss: 9.2527e-04 - val_mae: 0.0219 - val_mape: 3.6951\n",
            "\n",
            "Epoch 00041: val_loss did not improve from 0.00087\n",
            "Epoch 42/200\n",
            "6/6 - 1s - loss: 0.0032 - mae: 0.0431 - mape: 7.5382 - val_loss: 8.7731e-04 - val_mae: 0.0212 - val_mape: 3.6117\n",
            "\n",
            "Epoch 00042: val_loss did not improve from 0.00087\n",
            "Epoch 43/200\n",
            "6/6 - 1s - loss: 0.0031 - mae: 0.0429 - mape: 7.5269 - val_loss: 8.7645e-04 - val_mae: 0.0212 - val_mape: 3.6121\n",
            "\n",
            "Epoch 00043: val_loss did not improve from 0.00087\n",
            "Epoch 44/200\n",
            "6/6 - 1s - loss: 0.0031 - mae: 0.0428 - mape: 7.5457 - val_loss: 9.0198e-04 - val_mae: 0.0215 - val_mape: 3.6471\n",
            "\n",
            "Epoch 00044: val_loss did not improve from 0.00087\n",
            "Epoch 45/200\n",
            "6/6 - 1s - loss: 0.0031 - mae: 0.0427 - mape: 7.4900 - val_loss: 8.7450e-04 - val_mae: 0.0212 - val_mape: 3.6183\n",
            "\n",
            "Epoch 00045: val_loss did not improve from 0.00087\n",
            "Epoch 46/200\n",
            "6/6 - 1s - loss: 0.0031 - mae: 0.0431 - mape: 7.5365 - val_loss: 8.7454e-04 - val_mae: 0.0212 - val_mape: 3.6253\n",
            "\n",
            "Epoch 00046: val_loss did not improve from 0.00087\n",
            "Epoch 47/200\n",
            "6/6 - 1s - loss: 0.0031 - mae: 0.0428 - mape: 7.4986 - val_loss: 9.1319e-04 - val_mae: 0.0217 - val_mape: 3.6701\n",
            "\n",
            "Epoch 00047: val_loss did not improve from 0.00087\n",
            "Epoch 48/200\n",
            "6/6 - 1s - loss: 0.0032 - mae: 0.0431 - mape: 7.5635 - val_loss: 8.9015e-04 - val_mae: 0.0214 - val_mape: 3.6244\n",
            "\n",
            "Epoch 00048: val_loss did not improve from 0.00087\n",
            "Epoch 49/200\n",
            "6/6 - 1s - loss: 0.0031 - mae: 0.0426 - mape: 7.4457 - val_loss: 8.7437e-04 - val_mae: 0.0212 - val_mape: 3.6260\n",
            "\n",
            "Epoch 00049: val_loss did not improve from 0.00087\n",
            "Epoch 50/200\n",
            "6/6 - 1s - loss: 0.0031 - mae: 0.0427 - mape: 7.4923 - val_loss: 8.7409e-04 - val_mae: 0.0212 - val_mape: 3.6228\n",
            "\n",
            "Epoch 00050: val_loss did not improve from 0.00087\n",
            "Epoch 51/200\n",
            "6/6 - 1s - loss: 0.0031 - mae: 0.0425 - mape: 7.4773 - val_loss: 8.9220e-04 - val_mae: 0.0214 - val_mape: 3.6281\n",
            "\n",
            "Epoch 00051: val_loss did not improve from 0.00087\n",
            "Epoch 52/200\n",
            "6/6 - 1s - loss: 0.0031 - mae: 0.0426 - mape: 7.4700 - val_loss: 8.8235e-04 - val_mae: 0.0213 - val_mape: 3.6128\n",
            "\n",
            "Epoch 00052: val_loss did not improve from 0.00087\n",
            "Epoch 53/200\n",
            "6/6 - 1s - loss: 0.0031 - mae: 0.0423 - mape: 7.4072 - val_loss: 8.7398e-04 - val_mae: 0.0212 - val_mape: 3.6106\n",
            "\n",
            "Epoch 00053: val_loss did not improve from 0.00087\n",
            "Epoch 54/200\n",
            "6/6 - 1s - loss: 0.0031 - mae: 0.0425 - mape: 7.4538 - val_loss: 8.7313e-04 - val_mae: 0.0212 - val_mape: 3.6203\n",
            "\n",
            "Epoch 00054: val_loss did not improve from 0.00087\n",
            "Epoch 55/200\n",
            "6/6 - 1s - loss: 0.0031 - mae: 0.0430 - mape: 7.5431 - val_loss: 8.7476e-04 - val_mae: 0.0212 - val_mape: 3.6072\n",
            "\n",
            "Epoch 00055: val_loss did not improve from 0.00087\n",
            "Epoch 56/200\n",
            "6/6 - 1s - loss: 0.0031 - mae: 0.0426 - mape: 7.5065 - val_loss: 9.0432e-04 - val_mae: 0.0216 - val_mape: 3.6518\n",
            "\n",
            "Epoch 00056: val_loss did not improve from 0.00087\n",
            "Epoch 57/200\n",
            "6/6 - 1s - loss: 0.0031 - mae: 0.0425 - mape: 7.4272 - val_loss: 8.7982e-04 - val_mae: 0.0212 - val_mape: 3.6086\n",
            "\n",
            "Epoch 00057: val_loss did not improve from 0.00087\n",
            "Epoch 58/200\n",
            "6/6 - 1s - loss: 0.0031 - mae: 0.0424 - mape: 7.4464 - val_loss: 8.7236e-04 - val_mae: 0.0212 - val_mape: 3.6145\n",
            "\n",
            "Epoch 00058: val_loss improved from 0.00087 to 0.00087, saving model to LSTM.hdf5\n",
            "Epoch 59/200\n",
            "6/6 - 1s - loss: 0.0030 - mae: 0.0422 - mape: 7.4380 - val_loss: 8.8569e-04 - val_mae: 0.0213 - val_mape: 3.6162\n",
            "\n",
            "Epoch 00059: val_loss did not improve from 0.00087\n",
            "Epoch 60/200\n",
            "6/6 - 1s - loss: 0.0031 - mae: 0.0426 - mape: 7.4795 - val_loss: 8.9982e-04 - val_mae: 0.0215 - val_mape: 3.6426\n",
            "\n",
            "Epoch 00060: val_loss did not improve from 0.00087\n",
            "Epoch 61/200\n",
            "6/6 - 1s - loss: 0.0030 - mae: 0.0420 - mape: 7.3672 - val_loss: 8.7204e-04 - val_mae: 0.0212 - val_mape: 3.6202\n",
            "\n",
            "Epoch 00061: val_loss improved from 0.00087 to 0.00087, saving model to LSTM.hdf5\n",
            "Epoch 62/200\n",
            "6/6 - 1s - loss: 0.0030 - mae: 0.0419 - mape: 7.3772 - val_loss: 8.7613e-04 - val_mae: 0.0213 - val_mape: 3.6498\n",
            "\n",
            "Epoch 00062: val_loss did not improve from 0.00087\n",
            "Epoch 63/200\n",
            "6/6 - 1s - loss: 0.0030 - mae: 0.0421 - mape: 7.3567 - val_loss: 8.7553e-04 - val_mae: 0.0212 - val_mape: 3.6037\n",
            "\n",
            "Epoch 00063: val_loss did not improve from 0.00087\n",
            "Epoch 64/200\n",
            "6/6 - 1s - loss: 0.0030 - mae: 0.0421 - mape: 7.3971 - val_loss: 8.9015e-04 - val_mae: 0.0214 - val_mape: 3.6236\n",
            "\n",
            "Epoch 00064: val_loss did not improve from 0.00087\n",
            "Epoch 65/200\n",
            "6/6 - 1s - loss: 0.0030 - mae: 0.0419 - mape: 7.3538 - val_loss: 8.7577e-04 - val_mae: 0.0212 - val_mape: 3.6030\n",
            "\n",
            "Epoch 00065: val_loss did not improve from 0.00087\n",
            "Epoch 66/200\n",
            "6/6 - 1s - loss: 0.0031 - mae: 0.0424 - mape: 7.4421 - val_loss: 8.7330e-04 - val_mae: 0.0212 - val_mape: 3.6019\n",
            "\n",
            "Epoch 00066: val_loss did not improve from 0.00087\n",
            "Epoch 67/200\n",
            "6/6 - 1s - loss: 0.0030 - mae: 0.0423 - mape: 7.4662 - val_loss: 8.7493e-04 - val_mae: 0.0212 - val_mape: 3.6015\n",
            "\n",
            "Epoch 00067: val_loss did not improve from 0.00087\n",
            "Epoch 68/200\n",
            "6/6 - 1s - loss: 0.0030 - mae: 0.0418 - mape: 7.3546 - val_loss: 8.7303e-04 - val_mae: 0.0212 - val_mape: 3.6372\n",
            "\n",
            "Epoch 00068: val_loss did not improve from 0.00087\n",
            "Epoch 69/200\n",
            "6/6 - 1s - loss: 0.0030 - mae: 0.0422 - mape: 7.4099 - val_loss: 8.7519e-04 - val_mae: 0.0213 - val_mape: 3.6502\n",
            "\n",
            "Epoch 00069: val_loss did not improve from 0.00087\n",
            "Epoch 70/200\n",
            "6/6 - 1s - loss: 0.0030 - mae: 0.0422 - mape: 7.4219 - val_loss: 8.7079e-04 - val_mae: 0.0211 - val_mape: 3.5999\n",
            "\n",
            "Epoch 00070: val_loss improved from 0.00087 to 0.00087, saving model to LSTM.hdf5\n",
            "Epoch 71/200\n",
            "6/6 - 1s - loss: 0.0030 - mae: 0.0419 - mape: 7.4022 - val_loss: 8.9048e-04 - val_mae: 0.0214 - val_mape: 3.6238\n",
            "\n",
            "Epoch 00071: val_loss did not improve from 0.00087\n",
            "Epoch 72/200\n",
            "6/6 - 1s - loss: 0.0030 - mae: 0.0418 - mape: 7.3202 - val_loss: 8.9762e-04 - val_mae: 0.0215 - val_mape: 3.6379\n",
            "\n",
            "Epoch 00072: val_loss did not improve from 0.00087\n",
            "Epoch 73/200\n",
            "6/6 - 1s - loss: 0.0030 - mae: 0.0420 - mape: 7.3810 - val_loss: 8.7917e-04 - val_mae: 0.0212 - val_mape: 3.6041\n",
            "\n",
            "Epoch 00073: val_loss did not improve from 0.00087\n",
            "Epoch 74/200\n",
            "6/6 - 1s - loss: 0.0029 - mae: 0.0413 - mape: 7.2541 - val_loss: 8.6972e-04 - val_mae: 0.0211 - val_mape: 3.5979\n",
            "\n",
            "Epoch 00074: val_loss improved from 0.00087 to 0.00087, saving model to LSTM.hdf5\n",
            "Epoch 75/200\n",
            "6/6 - 1s - loss: 0.0029 - mae: 0.0413 - mape: 7.2388 - val_loss: 8.6826e-04 - val_mae: 0.0211 - val_mape: 3.6020\n",
            "\n",
            "Epoch 00075: val_loss improved from 0.00087 to 0.00087, saving model to LSTM.hdf5\n",
            "Epoch 76/200\n",
            "6/6 - 1s - loss: 0.0030 - mae: 0.0417 - mape: 7.2873 - val_loss: 8.6787e-04 - val_mae: 0.0211 - val_mape: 3.6033\n",
            "\n",
            "Epoch 00076: val_loss improved from 0.00087 to 0.00087, saving model to LSTM.hdf5\n",
            "Epoch 77/200\n",
            "6/6 - 1s - loss: 0.0030 - mae: 0.0414 - mape: 7.2320 - val_loss: 8.6790e-04 - val_mae: 0.0211 - val_mape: 3.6102\n",
            "\n",
            "Epoch 00077: val_loss did not improve from 0.00087\n",
            "Epoch 78/200\n",
            "6/6 - 1s - loss: 0.0029 - mae: 0.0416 - mape: 7.3185 - val_loss: 8.6769e-04 - val_mae: 0.0211 - val_mape: 3.5991\n",
            "\n",
            "Epoch 00078: val_loss improved from 0.00087 to 0.00087, saving model to LSTM.hdf5\n",
            "Epoch 79/200\n",
            "6/6 - 1s - loss: 0.0030 - mae: 0.0419 - mape: 7.3552 - val_loss: 8.6735e-04 - val_mae: 0.0211 - val_mape: 3.5991\n",
            "\n",
            "Epoch 00079: val_loss improved from 0.00087 to 0.00087, saving model to LSTM.hdf5\n",
            "Epoch 80/200\n",
            "6/6 - 1s - loss: 0.0029 - mae: 0.0414 - mape: 7.2731 - val_loss: 9.0883e-04 - val_mae: 0.0217 - val_mape: 3.6606\n",
            "\n",
            "Epoch 00080: val_loss did not improve from 0.00087\n",
            "Epoch 81/200\n",
            "6/6 - 1s - loss: 0.0030 - mae: 0.0415 - mape: 7.2948 - val_loss: 9.5707e-04 - val_mae: 0.0224 - val_mape: 3.7717\n",
            "\n",
            "Epoch 00081: val_loss did not improve from 0.00087\n",
            "Epoch 82/200\n",
            "6/6 - 1s - loss: 0.0029 - mae: 0.0414 - mape: 7.3093 - val_loss: 9.5169e-04 - val_mae: 0.0223 - val_mape: 3.7588\n",
            "\n",
            "Epoch 00082: val_loss did not improve from 0.00087\n",
            "Epoch 83/200\n",
            "6/6 - 1s - loss: 0.0030 - mae: 0.0418 - mape: 7.3396 - val_loss: 8.9067e-04 - val_mae: 0.0214 - val_mape: 3.6235\n",
            "\n",
            "Epoch 00083: val_loss did not improve from 0.00087\n",
            "Epoch 84/200\n",
            "6/6 - 1s - loss: 0.0029 - mae: 0.0412 - mape: 7.2161 - val_loss: 8.9553e-04 - val_mae: 0.0215 - val_mape: 3.6332\n",
            "\n",
            "Epoch 00084: val_loss did not improve from 0.00087\n",
            "Epoch 85/200\n",
            "6/6 - 1s - loss: 0.0029 - mae: 0.0415 - mape: 7.2910 - val_loss: 8.7592e-04 - val_mae: 0.0212 - val_mape: 3.5967\n",
            "\n",
            "Epoch 00085: val_loss did not improve from 0.00087\n",
            "Epoch 86/200\n",
            "6/6 - 1s - loss: 0.0029 - mae: 0.0410 - mape: 7.1795 - val_loss: 8.6690e-04 - val_mae: 0.0211 - val_mape: 3.6173\n",
            "\n",
            "Epoch 00086: val_loss improved from 0.00087 to 0.00087, saving model to LSTM.hdf5\n",
            "Epoch 87/200\n",
            "6/6 - 1s - loss: 0.0029 - mae: 0.0413 - mape: 7.2588 - val_loss: 8.6688e-04 - val_mae: 0.0211 - val_mape: 3.6180\n",
            "\n",
            "Epoch 00087: val_loss improved from 0.00087 to 0.00087, saving model to LSTM.hdf5\n",
            "Epoch 88/200\n",
            "6/6 - 1s - loss: 0.0029 - mae: 0.0413 - mape: 7.2626 - val_loss: 8.6480e-04 - val_mae: 0.0211 - val_mape: 3.5924\n",
            "\n",
            "Epoch 00088: val_loss improved from 0.00087 to 0.00086, saving model to LSTM.hdf5\n",
            "Epoch 89/200\n",
            "6/6 - 1s - loss: 0.0029 - mae: 0.0412 - mape: 7.2278 - val_loss: 8.6463e-04 - val_mae: 0.0211 - val_mape: 3.6042\n",
            "\n",
            "Epoch 00089: val_loss improved from 0.00086 to 0.00086, saving model to LSTM.hdf5\n",
            "Epoch 90/200\n",
            "6/6 - 1s - loss: 0.0030 - mae: 0.0412 - mape: 7.2665 - val_loss: 8.9131e-04 - val_mae: 0.0216 - val_mape: 3.7211\n",
            "\n",
            "Epoch 00090: val_loss did not improve from 0.00086\n",
            "Epoch 91/200\n",
            "6/6 - 1s - loss: 0.0029 - mae: 0.0414 - mape: 7.2614 - val_loss: 8.6895e-04 - val_mae: 0.0212 - val_mape: 3.6339\n",
            "\n",
            "Epoch 00091: val_loss did not improve from 0.00086\n",
            "Epoch 92/200\n",
            "6/6 - 1s - loss: 0.0029 - mae: 0.0413 - mape: 7.2702 - val_loss: 8.6374e-04 - val_mae: 0.0211 - val_mape: 3.6005\n",
            "\n",
            "Epoch 00092: val_loss improved from 0.00086 to 0.00086, saving model to LSTM.hdf5\n",
            "Epoch 93/200\n",
            "6/6 - 1s - loss: 0.0029 - mae: 0.0411 - mape: 7.2374 - val_loss: 8.6333e-04 - val_mae: 0.0210 - val_mape: 3.5900\n",
            "\n",
            "Epoch 00093: val_loss improved from 0.00086 to 0.00086, saving model to LSTM.hdf5\n",
            "Epoch 94/200\n",
            "6/6 - 1s - loss: 0.0029 - mae: 0.0410 - mape: 7.2007 - val_loss: 8.8999e-04 - val_mae: 0.0214 - val_mape: 3.6215\n",
            "\n",
            "Epoch 00094: val_loss did not improve from 0.00086\n",
            "Epoch 95/200\n",
            "6/6 - 1s - loss: 0.0029 - mae: 0.0410 - mape: 7.2020 - val_loss: 8.7761e-04 - val_mae: 0.0212 - val_mape: 3.5976\n",
            "\n",
            "Epoch 00095: val_loss did not improve from 0.00086\n",
            "Epoch 96/200\n",
            "6/6 - 1s - loss: 0.0029 - mae: 0.0411 - mape: 7.2225 - val_loss: 9.0333e-04 - val_mae: 0.0216 - val_mape: 3.6491\n",
            "\n",
            "Epoch 00096: val_loss did not improve from 0.00086\n",
            "Epoch 97/200\n",
            "6/6 - 1s - loss: 0.0029 - mae: 0.0409 - mape: 7.2012 - val_loss: 8.6228e-04 - val_mae: 0.0210 - val_mape: 3.5905\n",
            "\n",
            "Epoch 00097: val_loss improved from 0.00086 to 0.00086, saving model to LSTM.hdf5\n",
            "Epoch 98/200\n",
            "6/6 - 1s - loss: 0.0029 - mae: 0.0412 - mape: 7.2441 - val_loss: 8.7463e-04 - val_mae: 0.0213 - val_mape: 3.6620\n",
            "\n",
            "Epoch 00098: val_loss did not improve from 0.00086\n",
            "Epoch 99/200\n",
            "6/6 - 1s - loss: 0.0030 - mae: 0.0414 - mape: 7.2833 - val_loss: 8.6176e-04 - val_mae: 0.0210 - val_mape: 3.5861\n",
            "\n",
            "Epoch 00099: val_loss improved from 0.00086 to 0.00086, saving model to LSTM.hdf5\n",
            "Epoch 100/200\n",
            "6/6 - 1s - loss: 0.0029 - mae: 0.0409 - mape: 7.1913 - val_loss: 8.7153e-04 - val_mae: 0.0211 - val_mape: 3.5873\n",
            "\n",
            "Epoch 00100: val_loss did not improve from 0.00086\n",
            "Epoch 101/200\n",
            "6/6 - 1s - loss: 0.0029 - mae: 0.0410 - mape: 7.2176 - val_loss: 8.6179e-04 - val_mae: 0.0210 - val_mape: 3.5832\n",
            "\n",
            "Epoch 00101: val_loss did not improve from 0.00086\n",
            "Epoch 102/200\n",
            "6/6 - 1s - loss: 0.0029 - mae: 0.0413 - mape: 7.2732 - val_loss: 8.6272e-04 - val_mae: 0.0210 - val_mape: 3.5802\n",
            "\n",
            "Epoch 00102: val_loss did not improve from 0.00086\n",
            "Epoch 103/200\n",
            "6/6 - 1s - loss: 0.0028 - mae: 0.0406 - mape: 7.1207 - val_loss: 8.6458e-04 - val_mae: 0.0211 - val_mape: 3.6181\n",
            "\n",
            "Epoch 00103: val_loss did not improve from 0.00086\n",
            "Epoch 104/200\n",
            "6/6 - 1s - loss: 0.0029 - mae: 0.0409 - mape: 7.1905 - val_loss: 8.6073e-04 - val_mae: 0.0210 - val_mape: 3.5879\n",
            "\n",
            "Epoch 00104: val_loss improved from 0.00086 to 0.00086, saving model to LSTM.hdf5\n",
            "Epoch 105/200\n",
            "6/6 - 1s - loss: 0.0028 - mae: 0.0408 - mape: 7.1388 - val_loss: 8.6040e-04 - val_mae: 0.0210 - val_mape: 3.5845\n",
            "\n",
            "Epoch 00105: val_loss improved from 0.00086 to 0.00086, saving model to LSTM.hdf5\n",
            "Epoch 106/200\n",
            "6/6 - 1s - loss: 0.0029 - mae: 0.0405 - mape: 7.1261 - val_loss: 8.6125e-04 - val_mae: 0.0210 - val_mape: 3.6006\n",
            "\n",
            "Epoch 00106: val_loss did not improve from 0.00086\n",
            "Epoch 107/200\n",
            "6/6 - 1s - loss: 0.0029 - mae: 0.0407 - mape: 7.1633 - val_loss: 8.5979e-04 - val_mae: 0.0210 - val_mape: 3.5836\n",
            "\n",
            "Epoch 00107: val_loss improved from 0.00086 to 0.00086, saving model to LSTM.hdf5\n",
            "Epoch 108/200\n",
            "6/6 - 1s - loss: 0.0029 - mae: 0.0408 - mape: 7.1255 - val_loss: 8.6112e-04 - val_mae: 0.0211 - val_mape: 3.6025\n",
            "\n",
            "Epoch 00108: val_loss did not improve from 0.00086\n",
            "Epoch 109/200\n",
            "6/6 - 1s - loss: 0.0029 - mae: 0.0410 - mape: 7.1853 - val_loss: 8.5928e-04 - val_mae: 0.0210 - val_mape: 3.5814\n",
            "\n",
            "Epoch 00109: val_loss improved from 0.00086 to 0.00086, saving model to LSTM.hdf5\n",
            "Epoch 110/200\n",
            "6/6 - 1s - loss: 0.0029 - mae: 0.0406 - mape: 7.1909 - val_loss: 8.5982e-04 - val_mae: 0.0210 - val_mape: 3.5760\n",
            "\n",
            "Epoch 00110: val_loss did not improve from 0.00086\n",
            "Epoch 111/200\n",
            "6/6 - 1s - loss: 0.0029 - mae: 0.0409 - mape: 7.1780 - val_loss: 8.5971e-04 - val_mae: 0.0210 - val_mape: 3.5754\n",
            "\n",
            "Epoch 00111: val_loss did not improve from 0.00086\n",
            "Epoch 112/200\n",
            "6/6 - 1s - loss: 0.0029 - mae: 0.0408 - mape: 7.1966 - val_loss: 8.6153e-04 - val_mae: 0.0211 - val_mape: 3.6090\n",
            "\n",
            "Epoch 00112: val_loss did not improve from 0.00086\n",
            "Epoch 113/200\n",
            "6/6 - 1s - loss: 0.0029 - mae: 0.0407 - mape: 7.1638 - val_loss: 8.5812e-04 - val_mae: 0.0210 - val_mape: 3.5846\n",
            "\n",
            "Epoch 00113: val_loss improved from 0.00086 to 0.00086, saving model to LSTM.hdf5\n",
            "Epoch 114/200\n",
            "6/6 - 1s - loss: 0.0028 - mae: 0.0407 - mape: 7.1428 - val_loss: 8.5974e-04 - val_mae: 0.0210 - val_mape: 3.5714\n",
            "\n",
            "Epoch 00114: val_loss did not improve from 0.00086\n",
            "Epoch 115/200\n",
            "6/6 - 1s - loss: 0.0029 - mae: 0.0408 - mape: 7.1813 - val_loss: 8.5844e-04 - val_mae: 0.0210 - val_mape: 3.5737\n",
            "\n",
            "Epoch 00115: val_loss did not improve from 0.00086\n",
            "Epoch 116/200\n",
            "6/6 - 1s - loss: 0.0028 - mae: 0.0403 - mape: 7.1229 - val_loss: 8.5760e-04 - val_mae: 0.0210 - val_mape: 3.5811\n",
            "\n",
            "Epoch 00116: val_loss improved from 0.00086 to 0.00086, saving model to LSTM.hdf5\n",
            "Epoch 117/200\n",
            "6/6 - 1s - loss: 0.0028 - mae: 0.0404 - mape: 7.1055 - val_loss: 8.5747e-04 - val_mae: 0.0209 - val_mape: 3.5742\n",
            "\n",
            "Epoch 00117: val_loss improved from 0.00086 to 0.00086, saving model to LSTM.hdf5\n",
            "Epoch 118/200\n",
            "6/6 - 1s - loss: 0.0028 - mae: 0.0405 - mape: 7.1359 - val_loss: 8.5911e-04 - val_mae: 0.0210 - val_mape: 3.5995\n",
            "\n",
            "Epoch 00118: val_loss did not improve from 0.00086\n",
            "Epoch 119/200\n",
            "6/6 - 1s - loss: 0.0029 - mae: 0.0409 - mape: 7.1986 - val_loss: 8.6093e-04 - val_mae: 0.0211 - val_mape: 3.6104\n",
            "\n",
            "Epoch 00119: val_loss did not improve from 0.00086\n",
            "Epoch 120/200\n",
            "6/6 - 1s - loss: 0.0028 - mae: 0.0408 - mape: 7.1745 - val_loss: 8.5735e-04 - val_mae: 0.0210 - val_mape: 3.5877\n",
            "\n",
            "Epoch 00120: val_loss improved from 0.00086 to 0.00086, saving model to LSTM.hdf5\n",
            "Epoch 121/200\n",
            "6/6 - 1s - loss: 0.0029 - mae: 0.0409 - mape: 7.1849 - val_loss: 8.5731e-04 - val_mae: 0.0209 - val_mape: 3.5696\n",
            "\n",
            "Epoch 00121: val_loss improved from 0.00086 to 0.00086, saving model to LSTM.hdf5\n",
            "Epoch 122/200\n",
            "6/6 - 1s - loss: 0.0028 - mae: 0.0405 - mape: 7.1316 - val_loss: 8.6105e-04 - val_mae: 0.0210 - val_mape: 3.5687\n",
            "\n",
            "Epoch 00122: val_loss did not improve from 0.00086\n",
            "Epoch 123/200\n",
            "6/6 - 1s - loss: 0.0028 - mae: 0.0404 - mape: 7.0983 - val_loss: 8.5626e-04 - val_mae: 0.0209 - val_mape: 3.5699\n",
            "\n",
            "Epoch 00123: val_loss improved from 0.00086 to 0.00086, saving model to LSTM.hdf5\n",
            "Epoch 124/200\n",
            "6/6 - 1s - loss: 0.0028 - mae: 0.0406 - mape: 7.1419 - val_loss: 8.5548e-04 - val_mae: 0.0209 - val_mape: 3.5746\n",
            "\n",
            "Epoch 00124: val_loss improved from 0.00086 to 0.00086, saving model to LSTM.hdf5\n",
            "Epoch 125/200\n",
            "6/6 - 1s - loss: 0.0029 - mae: 0.0409 - mape: 7.2020 - val_loss: 8.5911e-04 - val_mae: 0.0210 - val_mape: 3.6048\n",
            "\n",
            "Epoch 00125: val_loss did not improve from 0.00086\n",
            "Epoch 126/200\n",
            "6/6 - 1s - loss: 0.0028 - mae: 0.0401 - mape: 7.0562 - val_loss: 8.5514e-04 - val_mae: 0.0209 - val_mape: 3.5759\n",
            "\n",
            "Epoch 00126: val_loss improved from 0.00086 to 0.00086, saving model to LSTM.hdf5\n",
            "Epoch 127/200\n",
            "6/6 - 1s - loss: 0.0028 - mae: 0.0405 - mape: 7.1074 - val_loss: 8.5611e-04 - val_mae: 0.0209 - val_mape: 3.5654\n",
            "\n",
            "Epoch 00127: val_loss did not improve from 0.00086\n",
            "Epoch 128/200\n",
            "6/6 - 1s - loss: 0.0029 - mae: 0.0407 - mape: 7.1875 - val_loss: 8.5883e-04 - val_mae: 0.0209 - val_mape: 3.5647\n",
            "\n",
            "Epoch 00128: val_loss did not improve from 0.00086\n",
            "Epoch 129/200\n",
            "6/6 - 1s - loss: 0.0028 - mae: 0.0404 - mape: 7.1145 - val_loss: 8.5919e-04 - val_mae: 0.0210 - val_mape: 3.6070\n",
            "\n",
            "Epoch 00129: val_loss did not improve from 0.00086\n",
            "Epoch 130/200\n",
            "6/6 - 1s - loss: 0.0028 - mae: 0.0398 - mape: 6.9873 - val_loss: 8.6362e-04 - val_mae: 0.0211 - val_mape: 3.6278\n",
            "\n",
            "Epoch 00130: val_loss did not improve from 0.00086\n",
            "Epoch 131/200\n",
            "6/6 - 1s - loss: 0.0029 - mae: 0.0407 - mape: 7.1657 - val_loss: 8.5410e-04 - val_mae: 0.0209 - val_mape: 3.5710\n",
            "\n",
            "Epoch 00131: val_loss improved from 0.00086 to 0.00085, saving model to LSTM.hdf5\n",
            "Epoch 132/200\n",
            "6/6 - 1s - loss: 0.0028 - mae: 0.0404 - mape: 7.1297 - val_loss: 8.6011e-04 - val_mae: 0.0210 - val_mape: 3.5650\n",
            "\n",
            "Epoch 00132: val_loss did not improve from 0.00085\n",
            "Epoch 133/200\n",
            "6/6 - 1s - loss: 0.0028 - mae: 0.0404 - mape: 7.0912 - val_loss: 9.1182e-04 - val_mae: 0.0217 - val_mape: 3.6684\n",
            "\n",
            "Epoch 00133: val_loss did not improve from 0.00085\n",
            "Epoch 134/200\n",
            "6/6 - 1s - loss: 0.0027 - mae: 0.0398 - mape: 7.0214 - val_loss: 8.8796e-04 - val_mae: 0.0214 - val_mape: 3.6167\n",
            "\n",
            "Epoch 00134: val_loss did not improve from 0.00085\n",
            "Epoch 135/200\n",
            "6/6 - 1s - loss: 0.0028 - mae: 0.0401 - mape: 7.0643 - val_loss: 8.5546e-04 - val_mae: 0.0209 - val_mape: 3.5603\n",
            "\n",
            "Epoch 00135: val_loss did not improve from 0.00085\n",
            "Epoch 136/200\n",
            "6/6 - 1s - loss: 0.0028 - mae: 0.0401 - mape: 7.0523 - val_loss: 8.6379e-04 - val_mae: 0.0210 - val_mape: 3.5693\n",
            "\n",
            "Epoch 00136: val_loss did not improve from 0.00085\n",
            "Epoch 137/200\n",
            "6/6 - 1s - loss: 0.0028 - mae: 0.0407 - mape: 7.1561 - val_loss: 8.5848e-04 - val_mae: 0.0209 - val_mape: 3.5617\n",
            "\n",
            "Epoch 00137: val_loss did not improve from 0.00085\n",
            "Epoch 138/200\n",
            "6/6 - 1s - loss: 0.0028 - mae: 0.0407 - mape: 7.1233 - val_loss: 8.7426e-04 - val_mae: 0.0212 - val_mape: 3.5882\n",
            "\n",
            "Epoch 00138: val_loss did not improve from 0.00085\n",
            "Epoch 139/200\n",
            "6/6 - 1s - loss: 0.0028 - mae: 0.0400 - mape: 7.0139 - val_loss: 8.6670e-04 - val_mae: 0.0211 - val_mape: 3.5739\n",
            "\n",
            "Epoch 00139: val_loss did not improve from 0.00085\n",
            "Epoch 140/200\n",
            "6/6 - 1s - loss: 0.0028 - mae: 0.0402 - mape: 7.0925 - val_loss: 8.5821e-04 - val_mae: 0.0209 - val_mape: 3.5606\n",
            "\n",
            "Epoch 00140: val_loss did not improve from 0.00085\n",
            "Epoch 141/200\n",
            "6/6 - 1s - loss: 0.0027 - mae: 0.0395 - mape: 6.9480 - val_loss: 8.6338e-04 - val_mae: 0.0210 - val_mape: 3.5679\n",
            "\n",
            "Epoch 00141: val_loss did not improve from 0.00085\n",
            "Epoch 142/200\n",
            "6/6 - 1s - loss: 0.0028 - mae: 0.0402 - mape: 7.0870 - val_loss: 8.5783e-04 - val_mae: 0.0209 - val_mape: 3.5596\n",
            "\n",
            "Epoch 00142: val_loss did not improve from 0.00085\n",
            "Epoch 143/200\n",
            "6/6 - 1s - loss: 0.0028 - mae: 0.0405 - mape: 7.0902 - val_loss: 8.5590e-04 - val_mae: 0.0210 - val_mape: 3.5970\n",
            "\n",
            "Epoch 00143: val_loss did not improve from 0.00085\n",
            "Epoch 144/200\n",
            "6/6 - 1s - loss: 0.0028 - mae: 0.0401 - mape: 7.0533 - val_loss: 8.5881e-04 - val_mae: 0.0211 - val_mape: 3.6109\n",
            "\n",
            "Epoch 00144: val_loss did not improve from 0.00085\n",
            "Epoch 145/200\n",
            "6/6 - 1s - loss: 0.0028 - mae: 0.0402 - mape: 7.0638 - val_loss: 8.5777e-04 - val_mae: 0.0210 - val_mape: 3.6066\n",
            "\n",
            "Epoch 00145: val_loss did not improve from 0.00085\n",
            "Epoch 146/200\n",
            "6/6 - 1s - loss: 0.0028 - mae: 0.0405 - mape: 7.1348 - val_loss: 8.5965e-04 - val_mae: 0.0211 - val_mape: 3.6154\n",
            "\n",
            "Epoch 00146: val_loss did not improve from 0.00085\n",
            "Epoch 147/200\n",
            "6/6 - 1s - loss: 0.0028 - mae: 0.0402 - mape: 7.0646 - val_loss: 8.6034e-04 - val_mae: 0.0210 - val_mape: 3.5625\n",
            "\n",
            "Epoch 00147: val_loss did not improve from 0.00085\n",
            "Epoch 148/200\n",
            "6/6 - 1s - loss: 0.0028 - mae: 0.0403 - mape: 7.0869 - val_loss: 8.7298e-04 - val_mae: 0.0212 - val_mape: 3.5853\n",
            "\n",
            "Epoch 00148: val_loss did not improve from 0.00085\n",
            "Epoch 149/200\n",
            "6/6 - 1s - loss: 0.0028 - mae: 0.0403 - mape: 7.0992 - val_loss: 8.7642e-04 - val_mae: 0.0212 - val_mape: 3.5923\n",
            "\n",
            "Epoch 00149: val_loss did not improve from 0.00085\n",
            "Epoch 150/200\n",
            "6/6 - 1s - loss: 0.0028 - mae: 0.0399 - mape: 7.0147 - val_loss: 8.6759e-04 - val_mae: 0.0211 - val_mape: 3.5747\n",
            "\n",
            "Epoch 00150: val_loss did not improve from 0.00085\n",
            "Epoch 151/200\n",
            "6/6 - 1s - loss: 0.0028 - mae: 0.0400 - mape: 7.0281 - val_loss: 8.9119e-04 - val_mae: 0.0214 - val_mape: 3.6237\n",
            "\n",
            "Epoch 00151: val_loss did not improve from 0.00085\n",
            "Epoch 152/200\n",
            "6/6 - 1s - loss: 0.0028 - mae: 0.0404 - mape: 7.1375 - val_loss: 8.8300e-04 - val_mae: 0.0213 - val_mape: 3.6061\n",
            "\n",
            "Epoch 00152: val_loss did not improve from 0.00085\n",
            "Epoch 153/200\n",
            "6/6 - 1s - loss: 0.0028 - mae: 0.0400 - mape: 7.0409 - val_loss: 8.8176e-04 - val_mae: 0.0213 - val_mape: 3.6035\n",
            "\n",
            "Epoch 00153: val_loss did not improve from 0.00085\n",
            "Epoch 154/200\n",
            "6/6 - 1s - loss: 0.0028 - mae: 0.0405 - mape: 7.1183 - val_loss: 8.8081e-04 - val_mae: 0.0213 - val_mape: 3.6015\n",
            "\n",
            "Epoch 00154: val_loss did not improve from 0.00085\n",
            "Epoch 155/200\n",
            "6/6 - 1s - loss: 0.0028 - mae: 0.0406 - mape: 7.1315 - val_loss: 8.5043e-04 - val_mae: 0.0208 - val_mape: 3.5522\n",
            "\n",
            "Epoch 00155: val_loss improved from 0.00085 to 0.00085, saving model to LSTM.hdf5\n",
            "Epoch 156/200\n",
            "6/6 - 1s - loss: 0.0028 - mae: 0.0404 - mape: 7.1250 - val_loss: 8.5013e-04 - val_mae: 0.0208 - val_mape: 3.5520\n",
            "\n",
            "Epoch 00156: val_loss improved from 0.00085 to 0.00085, saving model to LSTM.hdf5\n",
            "Epoch 157/200\n",
            "6/6 - 1s - loss: 0.0028 - mae: 0.0398 - mape: 7.0097 - val_loss: 8.4950e-04 - val_mae: 0.0209 - val_mape: 3.5653\n",
            "\n",
            "Epoch 00157: val_loss improved from 0.00085 to 0.00085, saving model to LSTM.hdf5\n",
            "Epoch 158/200\n",
            "6/6 - 1s - loss: 0.0027 - mae: 0.0400 - mape: 7.0459 - val_loss: 8.5144e-04 - val_mae: 0.0208 - val_mape: 3.5501\n",
            "\n",
            "Epoch 00158: val_loss did not improve from 0.00085\n",
            "Epoch 159/200\n",
            "6/6 - 1s - loss: 0.0028 - mae: 0.0400 - mape: 7.0465 - val_loss: 8.6187e-04 - val_mae: 0.0210 - val_mape: 3.5635\n",
            "\n",
            "Epoch 00159: val_loss did not improve from 0.00085\n",
            "Epoch 160/200\n",
            "6/6 - 1s - loss: 0.0027 - mae: 0.0396 - mape: 6.9709 - val_loss: 8.5329e-04 - val_mae: 0.0209 - val_mape: 3.5504\n",
            "\n",
            "Epoch 00160: val_loss did not improve from 0.00085\n",
            "Epoch 161/200\n",
            "6/6 - 1s - loss: 0.0028 - mae: 0.0400 - mape: 7.0797 - val_loss: 8.6320e-04 - val_mae: 0.0210 - val_mape: 3.5657\n",
            "\n",
            "Epoch 00161: val_loss did not improve from 0.00085\n",
            "Epoch 162/200\n",
            "6/6 - 1s - loss: 0.0027 - mae: 0.0397 - mape: 7.0069 - val_loss: 8.6268e-04 - val_mae: 0.0210 - val_mape: 3.5647\n",
            "\n",
            "Epoch 00162: val_loss did not improve from 0.00085\n",
            "Epoch 163/200\n",
            "6/6 - 1s - loss: 0.0028 - mae: 0.0401 - mape: 7.0647 - val_loss: 8.8403e-04 - val_mae: 0.0213 - val_mape: 3.6083\n",
            "\n",
            "Epoch 00163: val_loss did not improve from 0.00085\n",
            "Epoch 164/200\n",
            "6/6 - 1s - loss: 0.0027 - mae: 0.0396 - mape: 6.9961 - val_loss: 8.6374e-04 - val_mae: 0.0210 - val_mape: 3.5666\n",
            "\n",
            "Epoch 00164: val_loss did not improve from 0.00085\n",
            "Epoch 165/200\n",
            "6/6 - 1s - loss: 0.0028 - mae: 0.0399 - mape: 7.0508 - val_loss: 8.5516e-04 - val_mae: 0.0209 - val_mape: 3.5522\n",
            "\n",
            "Epoch 00165: val_loss did not improve from 0.00085\n",
            "Epoch 166/200\n",
            "6/6 - 1s - loss: 0.0027 - mae: 0.0397 - mape: 6.9845 - val_loss: 8.4979e-04 - val_mae: 0.0208 - val_mape: 3.5460\n",
            "\n",
            "Epoch 00166: val_loss did not improve from 0.00085\n",
            "Epoch 167/200\n",
            "6/6 - 1s - loss: 0.0027 - mae: 0.0394 - mape: 6.9395 - val_loss: 8.5688e-04 - val_mae: 0.0209 - val_mape: 3.5541\n",
            "\n",
            "Epoch 00167: val_loss did not improve from 0.00085\n",
            "Epoch 168/200\n",
            "6/6 - 1s - loss: 0.0027 - mae: 0.0400 - mape: 7.0407 - val_loss: 8.8925e-04 - val_mae: 0.0214 - val_mape: 3.6196\n",
            "\n",
            "Epoch 00168: val_loss did not improve from 0.00085\n",
            "Epoch 169/200\n",
            "6/6 - 1s - loss: 0.0027 - mae: 0.0396 - mape: 6.9835 - val_loss: 9.3667e-04 - val_mae: 0.0222 - val_mape: 3.7322\n",
            "\n",
            "Epoch 00169: val_loss did not improve from 0.00085\n",
            "Epoch 170/200\n",
            "6/6 - 1s - loss: 0.0028 - mae: 0.0403 - mape: 7.1069 - val_loss: 9.3075e-04 - val_mae: 0.0221 - val_mape: 3.7170\n",
            "\n",
            "Epoch 00170: val_loss did not improve from 0.00085\n",
            "Epoch 171/200\n",
            "6/6 - 1s - loss: 0.0028 - mae: 0.0405 - mape: 7.1237 - val_loss: 8.8257e-04 - val_mae: 0.0213 - val_mape: 3.6052\n",
            "\n",
            "Epoch 00171: val_loss did not improve from 0.00085\n",
            "Epoch 172/200\n",
            "6/6 - 1s - loss: 0.0027 - mae: 0.0398 - mape: 7.0187 - val_loss: 8.4909e-04 - val_mae: 0.0209 - val_mape: 3.5726\n",
            "\n",
            "Epoch 00172: val_loss improved from 0.00085 to 0.00085, saving model to LSTM.hdf5\n",
            "Epoch 173/200\n",
            "6/6 - 1s - loss: 0.0027 - mae: 0.0398 - mape: 7.0178 - val_loss: 8.4931e-04 - val_mae: 0.0208 - val_mape: 3.5449\n",
            "\n",
            "Epoch 00173: val_loss did not improve from 0.00085\n",
            "Epoch 174/200\n",
            "6/6 - 1s - loss: 0.0027 - mae: 0.0397 - mape: 7.0161 - val_loss: 8.4671e-04 - val_mae: 0.0208 - val_mape: 3.5504\n",
            "\n",
            "Epoch 00174: val_loss improved from 0.00085 to 0.00085, saving model to LSTM.hdf5\n",
            "Epoch 175/200\n",
            "6/6 - 1s - loss: 0.0027 - mae: 0.0395 - mape: 6.9544 - val_loss: 8.5391e-04 - val_mae: 0.0209 - val_mape: 3.5492\n",
            "\n",
            "Epoch 00175: val_loss did not improve from 0.00085\n",
            "Epoch 176/200\n",
            "6/6 - 1s - loss: 0.0028 - mae: 0.0396 - mape: 6.9825 - val_loss: 8.4697e-04 - val_mae: 0.0208 - val_mape: 3.5451\n",
            "\n",
            "Epoch 00176: val_loss did not improve from 0.00085\n",
            "Epoch 177/200\n",
            "6/6 - 1s - loss: 0.0027 - mae: 0.0397 - mape: 6.9871 - val_loss: 8.5062e-04 - val_mae: 0.0209 - val_mape: 3.5825\n",
            "\n",
            "Epoch 00177: val_loss did not improve from 0.00085\n",
            "Epoch 178/200\n",
            "6/6 - 1s - loss: 0.0028 - mae: 0.0399 - mape: 7.0696 - val_loss: 8.5725e-04 - val_mae: 0.0209 - val_mape: 3.5541\n",
            "\n",
            "Epoch 00178: val_loss did not improve from 0.00085\n",
            "Epoch 179/200\n",
            "6/6 - 1s - loss: 0.0027 - mae: 0.0395 - mape: 6.9484 - val_loss: 8.5597e-04 - val_mae: 0.0209 - val_mape: 3.5520\n",
            "\n",
            "Epoch 00179: val_loss did not improve from 0.00085\n",
            "Epoch 180/200\n",
            "6/6 - 1s - loss: 0.0027 - mae: 0.0393 - mape: 6.9298 - val_loss: 8.4688e-04 - val_mae: 0.0208 - val_mape: 3.5427\n",
            "\n",
            "Epoch 00180: val_loss did not improve from 0.00085\n",
            "Epoch 181/200\n",
            "6/6 - 1s - loss: 0.0027 - mae: 0.0395 - mape: 6.9460 - val_loss: 8.5664e-04 - val_mae: 0.0209 - val_mape: 3.5528\n",
            "\n",
            "Epoch 00181: val_loss did not improve from 0.00085\n",
            "Epoch 182/200\n",
            "6/6 - 1s - loss: 0.0027 - mae: 0.0396 - mape: 6.9885 - val_loss: 9.0462e-04 - val_mae: 0.0217 - val_mape: 3.6549\n",
            "\n",
            "Epoch 00182: val_loss did not improve from 0.00085\n",
            "Epoch 183/200\n",
            "6/6 - 1s - loss: 0.0027 - mae: 0.0391 - mape: 6.8978 - val_loss: 8.6083e-04 - val_mae: 0.0210 - val_mape: 3.5600\n",
            "\n",
            "Epoch 00183: val_loss did not improve from 0.00085\n",
            "Epoch 184/200\n",
            "6/6 - 1s - loss: 0.0027 - mae: 0.0395 - mape: 6.9817 - val_loss: 8.6245e-04 - val_mae: 0.0210 - val_mape: 3.5631\n",
            "\n",
            "Epoch 00184: val_loss did not improve from 0.00085\n",
            "Epoch 185/200\n",
            "6/6 - 1s - loss: 0.0027 - mae: 0.0394 - mape: 6.9471 - val_loss: 8.6110e-04 - val_mae: 0.0210 - val_mape: 3.5605\n",
            "\n",
            "Epoch 00185: val_loss did not improve from 0.00085\n",
            "Epoch 186/200\n",
            "6/6 - 1s - loss: 0.0027 - mae: 0.0392 - mape: 6.9099 - val_loss: 8.5010e-04 - val_mae: 0.0208 - val_mape: 3.5421\n",
            "\n",
            "Epoch 00186: val_loss did not improve from 0.00085\n",
            "Epoch 187/200\n",
            "6/6 - 1s - loss: 0.0026 - mae: 0.0389 - mape: 6.8565 - val_loss: 8.4793e-04 - val_mae: 0.0208 - val_mape: 3.5395\n",
            "\n",
            "Epoch 00187: val_loss did not improve from 0.00085\n",
            "Epoch 188/200\n",
            "6/6 - 1s - loss: 0.0026 - mae: 0.0391 - mape: 6.8815 - val_loss: 8.4430e-04 - val_mae: 0.0207 - val_mape: 3.5419\n",
            "\n",
            "Epoch 00188: val_loss improved from 0.00085 to 0.00084, saving model to LSTM.hdf5\n",
            "Epoch 189/200\n",
            "6/6 - 1s - loss: 0.0027 - mae: 0.0393 - mape: 6.9577 - val_loss: 8.4450e-04 - val_mae: 0.0207 - val_mape: 3.5399\n",
            "\n",
            "Epoch 00189: val_loss did not improve from 0.00084\n",
            "Epoch 190/200\n",
            "6/6 - 1s - loss: 0.0026 - mae: 0.0393 - mape: 6.9183 - val_loss: 8.9459e-04 - val_mae: 0.0215 - val_mape: 3.6320\n",
            "\n",
            "Epoch 00190: val_loss did not improve from 0.00084\n",
            "Epoch 191/200\n",
            "6/6 - 1s - loss: 0.0027 - mae: 0.0392 - mape: 6.9221 - val_loss: 8.5641e-04 - val_mae: 0.0209 - val_mape: 3.5515\n",
            "\n",
            "Epoch 00191: val_loss did not improve from 0.00084\n",
            "Epoch 192/200\n",
            "6/6 - 1s - loss: 0.0027 - mae: 0.0392 - mape: 6.9274 - val_loss: 8.4485e-04 - val_mae: 0.0207 - val_mape: 3.5375\n",
            "\n",
            "Epoch 00192: val_loss did not improve from 0.00084\n",
            "Epoch 193/200\n",
            "6/6 - 1s - loss: 0.0027 - mae: 0.0393 - mape: 6.9370 - val_loss: 8.4337e-04 - val_mae: 0.0207 - val_mape: 3.5431\n",
            "\n",
            "Epoch 00193: val_loss improved from 0.00084 to 0.00084, saving model to LSTM.hdf5\n",
            "Epoch 194/200\n",
            "6/6 - 1s - loss: 0.0026 - mae: 0.0389 - mape: 6.8831 - val_loss: 8.4599e-04 - val_mae: 0.0208 - val_mape: 3.5651\n",
            "\n",
            "Epoch 00194: val_loss did not improve from 0.00084\n",
            "Epoch 195/200\n",
            "6/6 - 1s - loss: 0.0026 - mae: 0.0388 - mape: 6.8429 - val_loss: 8.4937e-04 - val_mae: 0.0209 - val_mape: 3.5820\n",
            "\n",
            "Epoch 00195: val_loss did not improve from 0.00084\n",
            "Epoch 196/200\n",
            "6/6 - 1s - loss: 0.0026 - mae: 0.0387 - mape: 6.8368 - val_loss: 8.4698e-04 - val_mae: 0.0208 - val_mape: 3.5705\n",
            "\n",
            "Epoch 00196: val_loss did not improve from 0.00084\n",
            "Epoch 197/200\n",
            "6/6 - 1s - loss: 0.0026 - mae: 0.0390 - mape: 6.8840 - val_loss: 8.4374e-04 - val_mae: 0.0208 - val_mape: 3.5521\n",
            "\n",
            "Epoch 00197: val_loss did not improve from 0.00084\n",
            "Epoch 198/200\n",
            "6/6 - 1s - loss: 0.0026 - mae: 0.0385 - mape: 6.7967 - val_loss: 8.4298e-04 - val_mae: 0.0207 - val_mape: 3.5379\n",
            "\n",
            "Epoch 00198: val_loss improved from 0.00084 to 0.00084, saving model to LSTM.hdf5\n",
            "Epoch 199/200\n",
            "6/6 - 1s - loss: 0.0027 - mae: 0.0396 - mape: 6.9973 - val_loss: 8.4548e-04 - val_mae: 0.0207 - val_mape: 3.5347\n",
            "\n",
            "Epoch 00199: val_loss did not improve from 0.00084\n",
            "Epoch 200/200\n",
            "6/6 - 1s - loss: 0.0026 - mae: 0.0389 - mape: 6.8725 - val_loss: 8.4624e-04 - val_mae: 0.0208 - val_mape: 3.5350\n",
            "\n",
            "Epoch 00200: val_loss did not improve from 0.00084\n"
          ],
          "name": "stdout"
        },
        {
          "output_type": "execute_result",
          "data": {
            "text/plain": [
              "<tensorflow.python.keras.callbacks.History at 0x7f879b2a0ac8>"
            ]
          },
          "metadata": {
            "tags": []
          },
          "execution_count": 55
        }
      ]
    },
    {
      "cell_type": "code",
      "metadata": {
        "colab": {
          "base_uri": "https://localhost:8080/"
        },
        "id": "OxCDwkotibnu",
        "outputId": "81ff4752-37fa-4201-d970-42bd732efe31"
      },
      "source": [
        "train_pred = model.predict(X_train)\n",
        "val_pred = model.predict(X_val)\n",
        "test_pred = model.predict(X_test)\n",
        "\n",
        "#Print evaluation metrics for all datasets\n",
        "train_eval = model.evaluate(X_train, y_train, verbose=0)\n",
        "val_eval = model.evaluate(X_val, y_val, verbose=0)\n",
        "test_eval = model.evaluate(X_test, y_test, verbose=0)\n",
        "print(' ')\n",
        "print('Evaluation metrics')\n",
        "print('Training Data - Loss: {:.4f}, MAE: {:.4f}, MAPE: {:.4f}'.format(train_eval[0], train_eval[1], train_eval[2]))\n",
        "print('Validation Data - Loss: {:.4f}, MAE: {:.4f}, MAPE: {:.4f}'.format(val_eval[0], val_eval[1], val_eval[2]))\n",
        "print('Test Data - Loss: {:.4f}, MAE: {:.4f}, MAPE: {:.4f}'.format(test_eval[0], test_eval[1], test_eval[2]))"
      ],
      "execution_count": null,
      "outputs": [
        {
          "output_type": "stream",
          "text": [
            " \n",
            "Evaluation metrics\n",
            "Training Data - Loss: 0.0016, MAE: 0.0282, MAPE: 5.0436\n",
            "Validation Data - Loss: 0.0008, MAE: 0.0208, MAPE: 3.5350\n",
            "Test Data - Loss: 0.0016, MAE: 0.0260, MAPE: 4.4965\n"
          ],
          "name": "stdout"
        }
      ]
    },
    {
      "cell_type": "code",
      "metadata": {
        "colab": {
          "base_uri": "https://localhost:8080/",
          "height": 265
        },
        "id": "DI5Ravu-kfFR",
        "outputId": "53bc12b4-5f21-49a7-8a1b-49917cae4149"
      },
      "source": [
        "###Taking a closer look\n",
        "aa=[x for x in range(200)]\n",
        "plt.figure(figsize=(8,4))\n",
        "plt.plot(aa, y_test[:200], marker='.', label=\"actual\")\n",
        "plt.plot(aa, test_pred[:,0][:200], 'r', label=\"prediction\")\n",
        "plt.legend()\n",
        "plt.show()"
      ],
      "execution_count": null,
      "outputs": [
        {
          "output_type": "display_data",
          "data": {
            "image/png": "[encoded data removed]",
            "text/plain": [
              "<Figure size 576x288 with 1 Axes>"
            ]
          },
          "metadata": {
            "tags": [],
            "needs_background": "light"
          }
        }
      ]
    },
    {
      "cell_type": "code",
      "metadata": {
        "colab": {
          "base_uri": "https://localhost:8080/",
          "height": 316
        },
        "id": "xjr7gKp1lOWu",
        "outputId": "009e8a6f-138c-4d8b-bab2-702c9bb283ce"
      },
      "source": [
        "##Overall graph\n",
        "plt.figure(figsize=(8,4))\n",
        "plt.plot(y_test, label='IBM Closing Returns')\n",
        "plt.plot(test_pred, color='yellow', linewidth=3, label='Predicted IBM Closing Returns')\n",
        "plt.title(\"Test Data\", fontsize=18)\n",
        "plt.xlabel('Date')\n",
        "plt.ylabel('IBM Closing Returns')"
      ],
      "execution_count": null,
      "outputs": [
        {
          "output_type": "execute_result",
          "data": {
            "text/plain": [
              "Text(0, 0.5, 'IBM Closing Returns')"
            ]
          },
          "metadata": {
            "tags": []
          },
          "execution_count": 112
        },
        {
          "output_type": "display_data",
          "data": {
            "image/png": "[encoded data removed]",
            "text/plain": [
              "<Figure size 576x288 with 1 Axes>"
            ]
          },
          "metadata": {
            "tags": [],
            "needs_background": "light"
          }
        }
      ]
    },
    {
      "cell_type": "code",
      "metadata": {
        "id": "7L6zBv9MYlTA",
        "colab": {
          "base_uri": "https://localhost:8080/"
        },
        "outputId": "223cdaec-6a0f-48b4-d553-30ab0b28e9d4"
      },
      "source": [
        "!git clone https://github.com/AkhilaVangara/stockPrediction.git"
      ],
      "execution_count": 1,
      "outputs": [
        {
          "output_type": "stream",
          "text": [
            "Cloning into 'stockPrediction'...\n",
            "remote: Enumerating objects: 9, done.\u001b[K\n",
            "remote: Counting objects: 100% (9/9), done.\u001b[K\n",
            "remote: Compressing objects: 100% (6/6), done.\u001b[K\n",
            "remote: Total 9 (delta 0), reused 0 (delta 0), pack-reused 0\u001b[K\n",
            "Unpacking objects: 100% (9/9), done.\n"
          ],
          "name": "stdout"
        }
      ]
    },
    {
      "cell_type": "code",
      "metadata": {
        "colab": {
          "base_uri": "https://localhost:8080/"
        },
        "id": "BhUSlVXoeqON",
        "outputId": "8b48cfb8-7ace-42f3-9a69-bb5017b6f8e4"
      },
      "source": [
        "cd .."
      ],
      "execution_count": 3,
      "outputs": [
        {
          "output_type": "stream",
          "text": [
            "/\n"
          ],
          "name": "stdout"
        }
      ]
    },
    {
      "cell_type": "code",
      "metadata": {
        "colab": {
          "base_uri": "https://localhost:8080/"
        },
        "id": "qoVOD2kPhi0w",
        "outputId": "e0f08393-b406-4f88-a39d-a0f04a37acbe"
      },
      "source": [
        "cd content/"
      ],
      "execution_count": 5,
      "outputs": [
        {
          "output_type": "stream",
          "text": [
            "/content\n"
          ],
          "name": "stdout"
        }
      ]
    },
    {
      "cell_type": "code",
      "metadata": {
        "colab": {
          "base_uri": "https://localhost:8080/"
        },
        "id": "dYqAW91ThlEt",
        "outputId": "62f4fbc1-cc5d-4e6b-f313-dbc84dc03f47"
      },
      "source": [
        "ls"
      ],
      "execution_count": 6,
      "outputs": [
        {
          "output_type": "stream",
          "text": [
            "\u001b[0m\u001b[01;34mstockPrediction\u001b[0m/\n"
          ],
          "name": "stdout"
        }
      ]
    },
    {
      "cell_type": "code",
      "metadata": {
        "colab": {
          "base_uri": "https://localhost:8080/"
        },
        "id": "VSYhLTydhoyg",
        "outputId": "2d9a1e12-5845-4c5c-d3ee-b549ec63ccdc"
      },
      "source": [
        "cd stockPrediction/"
      ],
      "execution_count": 7,
      "outputs": [
        {
          "output_type": "stream",
          "text": [
            "/content/stockPrediction\n"
          ],
          "name": "stdout"
        }
      ]
    },
    {
      "cell_type": "code",
      "metadata": {
        "id": "fYfUVh8MhrKq",
        "outputId": "db92577b-0f33-421f-eded-18e3eddd202d",
        "colab": {
          "base_uri": "https://localhost:8080/"
        }
      },
      "source": [
        "ls"
      ],
      "execution_count": 8,
      "outputs": [
        {
          "output_type": "stream",
          "text": [
            "IBM.csv  README.md  \u001b[0m\u001b[01;34msample_data\u001b[0m/\n"
          ],
          "name": "stdout"
        }
      ]
    },
    {
      "cell_type": "code",
      "metadata": {
        "id": "EL722hPQhrhs"
      },
      "source": [
        ""
      ],
      "execution_count": null,
      "outputs": []
    }
  ]
}